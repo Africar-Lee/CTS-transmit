{
 "cells": [
  {
   "cell_type": "code",
   "execution_count": 1,
   "metadata": {},
   "outputs": [],
   "source": [
    "import pandas as pd\n",
    "import numpy as np\n",
    "import matplotlib.pyplot as plt\n",
    "import seaborn as sns\n",
    "import transbigdata as tdb\n",
    "def station2staion_no_line(station):\n",
    "    station_no_line = pd.DataFrame()\n",
    "    for i in range(len(station['站点名'].unique())):\n",
    "        spec_time_place_station = station[station['站点名'] == station['站点名'].unique()[i]]\n",
    "        # spec_time_place_station = spec_time_place_station[['开始时间','线路名','站点名','进站量','出站量']]\n",
    "        spec_time_place_station = spec_time_place_station.fillna(0)\n",
    "        spec_time_place_station = spec_time_place_station.groupby(['日期','开始时间','结束时间']).agg({\n",
    "            '站点名': 'first',  # 假设每个时间段内站点名是相同的，取第一个即可\n",
    "            '进站量': 'sum',\n",
    "            '出站量': 'sum'\n",
    "        })\n",
    "        spec_time_place_station = spec_time_place_station.reset_index()\n",
    "        station_no_line = pd.concat([station_no_line, spec_time_place_station]).reset_index(drop=True)\n",
    "    return station_no_line"
   ]
  },
  {
   "cell_type": "code",
   "execution_count": 2,
   "metadata": {},
   "outputs": [
    {
     "name": "stdout",
     "output_type": "stream",
     "text": [
      "Obtaining city id: 北京success\n",
      "Get bus data: 1号线\n",
      "地铁1号线八通线(环球度假区-古城) success\n",
      "地铁1号线八通线(古城-环球度假区) success\n",
      "地铁1号线支线(八角游乐园-青龙湖东) success\n",
      "地铁1号线支线(青龙湖东-八角游乐园) success\n",
      "Get bus data: 2号线\n",
      "地铁2号线外环(西直门-西直门) success\n",
      "地铁2号线内环(积水潭-积水潭) success\n",
      "地铁6号线二期(潞城-东小营南) success\n",
      "地铁6号线二期(东小营南-潞城) success\n",
      "Get bus data: 5号线\n",
      "地铁5号线(宋家庄-天通苑北) success\n",
      "地铁5号线(天通苑北-宋家庄) success\n",
      "Get bus data: 6号线\n",
      "地铁6号线(金安桥-潞城) success\n",
      "地铁6号线(潞城-金安桥) success\n",
      "Get bus data: 7号线\n",
      "地铁7号线(北京西站-环球度假区) success\n",
      "地铁7号线(环球度假区-北京西站) success\n",
      "Get bus data: 8号线\n",
      "地铁8号线(朱辛庄-瀛海) success\n",
      "地铁8号线(瀛海-朱辛庄) success\n",
      "Get bus data: 9&房山线\n",
      "地铁9号线(国家图书馆-郭公庄) success\n",
      "地铁9号线(郭公庄-国家图书馆) success\n",
      "Get bus data: 房山线\n",
      "地铁房山线(东管头南-阎村东) success\n",
      "地铁房山线(阎村东-东管头南) success\n",
      "大兴机场大巴房山线(房山区交通局-大兴机场) success\n",
      "大兴机场大巴房山线(大兴机场-房山区交通局) success\n",
      "Get bus data: 10号线\n",
      "地铁10号线外环(车道沟-车道沟) success\n",
      "地铁10号线内环(巴沟-巴沟) success\n",
      "Get bus data: 13号线\n",
      "地铁13号线(东直门-西直门) success\n",
      "地铁13号线(西直门-东直门) success\n",
      "地铁13A号线(天通苑东-车公庄) success\n",
      "地铁13A号线(车公庄-天通苑东) success\n",
      "Get bus data: 15号线\n",
      "地铁15号线(清华东路西口-俸伯) success\n",
      "地铁15号线(俸伯-清华东路西口) success\n",
      "Get bus data: 昌平线\n",
      "地铁昌平线(西土城-昌平西山口) success\n",
      "地铁昌平线(昌平西山口-西土城) success\n",
      "首都机场大巴昌平线(昌平北站-首都机场T3航站楼) success\n",
      "首都机场大巴昌平线(首都机场T3航站楼-昌平北站) success\n",
      "Get bus data: 首都机场线\n",
      "首都机场线(北新桥-2号航站楼) success\n",
      "大兴机场线(草桥-大兴机场) success\n",
      "大兴机场线(大兴机场-草桥) success\n",
      "大兴机场大巴首都机场线(首都机场-大兴机场) success\n"
     ]
    }
   ],
   "source": [
    "import warnings\n",
    "warnings.filterwarnings('ignore')\n",
    "import pandas as pd\n",
    "import numpy as np\n",
    "import geopandas as gpd\n",
    "import transbigdata as tbd\n",
    "line,stop = tbd.getbusdata('北京',['1号线', '2号线', '5号线', '6号线', '7号线', '8号线', '9&房山线','房山线', '10号线',\n",
    "       '13号线', '15号线', '昌平线', '首都机场线'])\n",
    "line = line[line['line']!='大兴机场大巴首都机场线'].reset_index(drop=True)\n",
    "stop = stop[stop['line']!='大兴机场大巴首都机场线'].reset_index(drop=True)\n",
    "line = line[line['line']!='首都机场大巴昌平线'].reset_index(drop=True)\n",
    "stop = stop[stop['line']!='首都机场大巴昌平线'].reset_index(drop=True)\n",
    "stop.loc[stop['stationnames'] == '清河站', 'stationnames'] = '清河'"
   ]
  },
  {
   "cell_type": "code",
   "execution_count": 3,
   "metadata": {},
   "outputs": [],
   "source": [
    "import pandas as pd\n",
    "import networkx as nx\n",
    "\n",
    "line_data = {'线路名': [], '站点名': [], '顺序': []}\n",
    "for i in range(len(stop)):\n",
    "    线路名 = line_data['线路名']\n",
    "    线路名.append(stop.loc[i, 'line'])\n",
    "    站点名 = line_data['站点名']\n",
    "    站点名.append(stop.loc[i, 'stationnames'])\n",
    "    顺序 = line_data['顺序']\n",
    "    顺序.append(stop.loc[i, 'id'])\n",
    "    line_data.update({'线路名':线路名, '站点名':站点名, '顺序':顺序})\n",
    "# 示例数据\n",
    "# line_data = {\n",
    "#     '线路名': ['1号线', '1号线', '1号线', '2号线', '2号线'],\n",
    "#     '站点名': ['站点A', '站点B', '站点C', '站点B', '站点D'],\n",
    "#     '顺序': [1, 2, 3, 1, 2]\n",
    "# }\n",
    "\n",
    "\n",
    "stop_data = {'站点名':list(stop['stationnames'].unique())}\n",
    "# 示例数据\n",
    "# stop_data = {\n",
    "#     '站点名': ['站点A', '站点B', '站点C', '站点D'],\n",
    "#     '其他信息': ['infoA', 'infoB', 'infoC', 'infoD']\n",
    "# }\n",
    "\n",
    "line_for_adj = pd.DataFrame(line_data)\n",
    "stop_for_adj = pd.DataFrame(stop_data)\n",
    "\n",
    "# 构建地铁网络图\n",
    "G = nx.Graph()\n",
    "\n",
    "# 添加节点\n",
    "for station_for_adj in stop_for_adj['站点名']:\n",
    "    G.add_node(station_for_adj)\n",
    "\n",
    "# 添加边（根据站点顺序）\n",
    "for line_name, group in line_for_adj.groupby('线路名'):\n",
    "    sorted_stations = group.sort_values('顺序')['站点名'].tolist()\n",
    "    for i in range(len(sorted_stations) - 1):\n",
    "        G.add_edge(sorted_stations[i], sorted_stations[i + 1])\n",
    "\n",
    "# 提取邻接矩阵\n",
    "adj_matrix = nx.adjacency_matrix(G).todense()"
   ]
  },
  {
   "cell_type": "code",
   "execution_count": 4,
   "metadata": {},
   "outputs": [],
   "source": [
    "station = pd.read_csv('CTS-2024-dataset/station_20230519.csv')\n",
    "station = station2staion_no_line(station)"
   ]
  },
  {
   "cell_type": "code",
   "execution_count": 5,
   "metadata": {},
   "outputs": [],
   "source": [
    "from datetime import datetime\n",
    "\n",
    "sta_info_for_adj = pd.DataFrame(columns=['station_name', 'abs_date', 'time_point', 'day_of_week', 'is_event', 'in_flow', 'out_flow'])\n",
    "for i in range(len(station)):\n",
    "    station_name = station.loc[i, '站点名']\n",
    "    precise_time = datetime.strptime(station.loc[i, '开始时间'], '%Y/%m/%d %H:%M:%S')\n",
    "    time_diff = precise_time - datetime.strptime('2023/5/19 00:00:00', '%Y/%m/%d %H:%M:%S')\n",
    "    abs_date = time_diff.days + 1 # 从1开始编号，五月19是第一天\n",
    "    time_point = (precise_time.hour * 60 + precise_time.minute) / 30\n",
    "    day_of_week = precise_time.weekday() # Monday == 0 ... Sunday == 6\n",
    "    event_condition = ((precise_time.day == 26 or precise_time.day == 27) and precise_time.month == 5) or ((precise_time.day == 25) and precise_time.month == 8)\n",
    "    is_event = 1 if event_condition else 0\n",
    "    in_flow = float(station.loc[i, '进站量'])\n",
    "    out_flow = float(station.loc[i, '出站量'])\n",
    "    sta_info_for_adj.loc[i] = [station_name, abs_date, time_point, day_of_week, is_event, in_flow, out_flow]"
   ]
  },
  {
   "cell_type": "code",
   "execution_count": 14,
   "metadata": {},
   "outputs": [
    {
     "ename": "AttributeError",
     "evalue": "'list' object has no attribute 'values'",
     "output_type": "error",
     "traceback": [
      "\u001b[0;31m---------------------------------------------------------------------------\u001b[0m",
      "\u001b[0;31mAttributeError\u001b[0m                            Traceback (most recent call last)",
      "Cell \u001b[0;32mIn[14], line 14\u001b[0m\n\u001b[1;32m     11\u001b[0m     my_y\u001b[38;5;241m.\u001b[39mappend(labels)\n\u001b[1;32m     12\u001b[0m \u001b[38;5;66;03m# my_x[0]\u001b[39;00m\n\u001b[1;32m     13\u001b[0m \u001b[38;5;66;03m# my_y = np.array(my_y)\u001b[39;00m\n\u001b[0;32m---> 14\u001b[0m \u001b[43mmy_y\u001b[49m\u001b[38;5;241;43m.\u001b[39;49m\u001b[43mvalues\u001b[49m\n",
      "\u001b[0;31mAttributeError\u001b[0m: 'list' object has no attribute 'values'"
     ]
    }
   ],
   "source": [
    "categories_list = list(stop_for_adj['站点名'])\n",
    "my_x = []\n",
    "my_y = []\n",
    "for i in sta_info_for_adj.groupby([\"abs_date\",\"time_point\"]):\n",
    "    temp = i[1]\n",
    "    temp['station_name'] = pd.Categorical(temp['station_name'], categories=categories_list, ordered=True)\n",
    "    temp = temp.sort_values(by=['station_name']).reset_index(drop=True)#特定日期特定时间的所有站点已知数据\n",
    "    features = temp[['abs_date','time_point','day_of_week','is_event']].values\n",
    "    labels = temp[['in_flow','out_flow']].values\n",
    "    my_x.append(features)\n",
    "    my_y.append(labels)\n",
    "# my_x[0]\n",
    "my_y = np.array(my_y)\n",
    "my_y"
   ]
  },
  {
   "cell_type": "code",
   "execution_count": 83,
   "metadata": {},
   "outputs": [],
   "source": []
  }
 ],
 "metadata": {
  "kernelspec": {
   "display_name": "Python 3 (ipykernel)",
   "language": "python",
   "name": "python3"
  },
  "language_info": {
   "codemirror_mode": {
    "name": "ipython",
    "version": 3
   },
   "file_extension": ".py",
   "mimetype": "text/x-python",
   "name": "python",
   "nbconvert_exporter": "python",
   "pygments_lexer": "ipython3",
   "version": "3.12.3"
  }
 },
 "nbformat": 4,
 "nbformat_minor": 2
}
