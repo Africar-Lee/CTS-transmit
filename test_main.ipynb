{
 "cells": [
  {
   "cell_type": "markdown",
   "metadata": {},
   "source": [
    "# 导入模块及定义"
   ]
  },
  {
   "cell_type": "markdown",
   "metadata": {},
   "source": [
    "## 导入模块"
   ]
  },
  {
   "cell_type": "code",
   "execution_count": 1,
   "metadata": {},
   "outputs": [
    {
     "name": "stdout",
     "output_type": "stream",
     "text": [
      "Obtaining city id: 北京success\n",
      "Get bus data: 1号线\n",
      "地铁1号线八通线(环球度假区-古城) success\n",
      "地铁1号线八通线(古城-环球度假区) success\n",
      "地铁1号线支线(八角游乐园-青龙湖东) success\n",
      "地铁1号线支线(青龙湖东-八角游乐园) success\n",
      "Get bus data: 2号线\n",
      "地铁2号线外环(西直门-西直门) success\n",
      "地铁2号线内环(积水潭-积水潭) success\n",
      "地铁6号线二期(潞城-东小营南) success\n",
      "地铁6号线二期(东小营南-潞城) success\n",
      "Get bus data: 5号线\n",
      "地铁5号线(宋家庄-天通苑北) success\n",
      "地铁5号线(天通苑北-宋家庄) success\n",
      "Get bus data: 6号线\n",
      "地铁6号线(金安桥-潞城) success\n",
      "地铁6号线(潞城-金安桥) success\n",
      "Get bus data: 7号线\n",
      "地铁7号线(北京西站-环球度假区) success\n",
      "地铁7号线(环球度假区-北京西站) success\n",
      "Get bus data: 8号线\n",
      "地铁8号线(朱辛庄-瀛海) success\n",
      "地铁8号线(瀛海-朱辛庄) success\n",
      "Get bus data: 9&房山线\n",
      "地铁9号线(国家图书馆-郭公庄) success\n",
      "地铁9号线(郭公庄-国家图书馆) success\n",
      "Get bus data: 房山线\n",
      "地铁房山线(东管头南-阎村东) success\n",
      "地铁房山线(阎村东-东管头南) success\n",
      "大兴机场大巴房山线(房山区交通局-大兴机场) success\n",
      "大兴机场大巴房山线(大兴机场-房山区交通局) success\n",
      "Get bus data: 10号线\n",
      "地铁10号线外环(车道沟-车道沟) success\n",
      "地铁10号线内环(巴沟-巴沟) success\n",
      "Get bus data: 13号线\n",
      "地铁13号线(东直门-西直门) success\n",
      "地铁13号线(西直门-东直门) success\n",
      "地铁13A号线(天通苑东-车公庄) success\n",
      "地铁13A号线(车公庄-天通苑东) success\n",
      "Get bus data: 15号线\n",
      "地铁15号线(清华东路西口-俸伯) success\n",
      "地铁15号线(俸伯-清华东路西口) success\n",
      "Get bus data: 昌平线\n",
      "地铁昌平线(西土城-昌平西山口) success\n",
      "地铁昌平线(昌平西山口-西土城) success\n",
      "首都机场大巴昌平线(昌平北站-首都机场T3航站楼) success\n",
      "首都机场大巴昌平线(首都机场T3航站楼-昌平北站) success\n",
      "Get bus data: 首都机场线\n",
      "首都机场线(北新桥-2号航站楼) success\n",
      "大兴机场线(草桥-大兴机场) success\n",
      "大兴机场线(大兴机场-草桥) success\n",
      "大兴机场大巴首都机场线(首都机场-大兴机场) success\n",
      "the length of remain_staion_list is  135\n"
     ]
    },
    {
     "name": "stderr",
     "output_type": "stream",
     "text": [
      "/home/africar/CTS-transmit/.venv/lib/python3.12/site-packages/transbigdata/crawler.py:284: FutureWarning: You are adding a column named 'geometry' to a GeoDataFrame constructed without an active geometry column. Currently, this automatically sets the active geometry column to 'geometry' but in the future that will no longer happen. Instead, either provide geometry to the GeoDataFrame constructor (GeoDataFrame(... geometry=GeoSeries()) or use `set_geometry('geometry')` to explicitly set the active geometry column.\n",
      "  data['geometry'] = lines\n",
      "/home/africar/CTS-transmit/script/utility.py:55: FutureWarning: The behavior of DataFrame concatenation with empty or all-NA entries is deprecated. In a future version, this will no longer exclude empty or all-NA columns when determining the result dtypes. To retain the old behavior, exclude the relevant entries before the concat operation.\n",
      "  output_df = pd.concat([output_df, new_row], ignore_index=True)\n"
     ]
    },
    {
     "name": "stdout",
     "output_type": "stream",
     "text": [
      "tmp_rem_df.__len__ is  6480\n"
     ]
    },
    {
     "name": "stderr",
     "output_type": "stream",
     "text": [
      "/home/africar/CTS-transmit/script/utility.py:55: FutureWarning: The behavior of DataFrame concatenation with empty or all-NA entries is deprecated. In a future version, this will no longer exclude empty or all-NA columns when determining the result dtypes. To retain the old behavior, exclude the relevant entries before the concat operation.\n",
      "  output_df = pd.concat([output_df, new_row], ignore_index=True)\n"
     ]
    },
    {
     "name": "stdout",
     "output_type": "stream",
     "text": [
      "tmp_rem_df.__len__ is  6480\n"
     ]
    },
    {
     "name": "stderr",
     "output_type": "stream",
     "text": [
      "/home/africar/CTS-transmit/script/utility.py:55: FutureWarning: The behavior of DataFrame concatenation with empty or all-NA entries is deprecated. In a future version, this will no longer exclude empty or all-NA columns when determining the result dtypes. To retain the old behavior, exclude the relevant entries before the concat operation.\n",
      "  output_df = pd.concat([output_df, new_row], ignore_index=True)\n"
     ]
    },
    {
     "name": "stdout",
     "output_type": "stream",
     "text": [
      "tmp_rem_df.__len__ is  6480\n"
     ]
    },
    {
     "name": "stderr",
     "output_type": "stream",
     "text": [
      "/home/africar/CTS-transmit/script/utility.py:55: FutureWarning: The behavior of DataFrame concatenation with empty or all-NA entries is deprecated. In a future version, this will no longer exclude empty or all-NA columns when determining the result dtypes. To retain the old behavior, exclude the relevant entries before the concat operation.\n",
      "  output_df = pd.concat([output_df, new_row], ignore_index=True)\n"
     ]
    },
    {
     "name": "stdout",
     "output_type": "stream",
     "text": [
      "tmp_rem_df.__len__ is  6480\n"
     ]
    },
    {
     "name": "stderr",
     "output_type": "stream",
     "text": [
      "/home/africar/CTS-transmit/script/utility.py:55: FutureWarning: The behavior of DataFrame concatenation with empty or all-NA entries is deprecated. In a future version, this will no longer exclude empty or all-NA columns when determining the result dtypes. To retain the old behavior, exclude the relevant entries before the concat operation.\n",
      "  output_df = pd.concat([output_df, new_row], ignore_index=True)\n"
     ]
    },
    {
     "name": "stdout",
     "output_type": "stream",
     "text": [
      "tmp_rem_df.__len__ is  6480\n"
     ]
    },
    {
     "name": "stderr",
     "output_type": "stream",
     "text": [
      "/home/africar/CTS-transmit/script/utility.py:55: FutureWarning: The behavior of DataFrame concatenation with empty or all-NA entries is deprecated. In a future version, this will no longer exclude empty or all-NA columns when determining the result dtypes. To retain the old behavior, exclude the relevant entries before the concat operation.\n",
      "  output_df = pd.concat([output_df, new_row], ignore_index=True)\n"
     ]
    },
    {
     "name": "stdout",
     "output_type": "stream",
     "text": [
      "tmp_rem_df.__len__ is  6480\n"
     ]
    },
    {
     "name": "stderr",
     "output_type": "stream",
     "text": [
      "/home/africar/CTS-transmit/script/utility.py:55: FutureWarning: The behavior of DataFrame concatenation with empty or all-NA entries is deprecated. In a future version, this will no longer exclude empty or all-NA columns when determining the result dtypes. To retain the old behavior, exclude the relevant entries before the concat operation.\n",
      "  output_df = pd.concat([output_df, new_row], ignore_index=True)\n"
     ]
    },
    {
     "name": "stdout",
     "output_type": "stream",
     "text": [
      "tmp_rem_df.__len__ is  6480\n",
      "output_df.__len__ is  106848\n"
     ]
    }
   ],
   "source": [
    "import os\n",
    "import argparse\n",
    "import math\n",
    "import random\n",
    "import tqdm\n",
    "import numpy as np\n",
    "import pandas as pd\n",
    "from sklearn import preprocessing\n",
    "\n",
    "from script import dataloader, utility, earlystopping\n",
    "from model import models\n",
    "\n",
    "import matplotlib.pyplot as plt\n",
    "import seaborn as sns\n",
    "import transbigdata as tbd\n",
    "\n",
    "import networkx as nx\n",
    "\n",
    "from typing import List\n",
    "\n",
    "import torch\n",
    "import torch.nn as nn\n",
    "import torch.optim as optim\n",
    "import torch.utils as utils\n",
    "\n",
    "from torch_geometric.data import Data"
   ]
  },
  {
   "cell_type": "markdown",
   "metadata": {},
   "source": [
    "## 声明和定义模型各层"
   ]
  },
  {
   "cell_type": "code",
   "execution_count": null,
   "metadata": {},
   "outputs": [],
   "source": [
    "import torch.nn.functional as F\n",
    "import torch.nn.init as init\n",
    "\n",
    "from torch.nn import Linear, Parameter\n",
    "from torch_geometric.nn import MessagePassing\n",
    "from torch_geometric.utils import add_self_loops, degree\n",
    "\n",
    "import torch\n",
    "import torch.nn as nn\n",
    "import torch.optim as optim\n",
    "from torch_geometric.nn import GCNConv\n",
    "import torch_geometric.nn as pyg_nn\n",
    "import torch_geometric.utils as pyg_utils\n",
    "class TemporalConvLayer(nn.Module):\n",
    "    def __init__(self, in_channels, out_channels, kernel_size):\n",
    "        super(TemporalConvLayer, self).__init__()\n",
    "        self.conv = nn.Conv2d(in_channels, out_channels, kernel_size=kernel_size, padding=(kernel_size[0] // 2, 0))\n",
    "\n",
    "    def forward(self, x):\n",
    "        x = x.permute(0, 3, 1, 2)  # (batch, N, T, F) -> (batch, F, T, N)\n",
    "        x = self.conv(x)\n",
    "        x = x.permute(0, 2, 3, 1)  # (batch, F, T, N) -> (batch, N, T, F)\n",
    "        return x\n",
    "\n",
    "class SpatialConvLayer(nn.Module):\n",
    "    def __init__(self, in_channels, out_channels):\n",
    "        super(SpatialConvLayer, self).__init__()\n",
    "        self.gcn = GCNConv(in_channels, out_channels)\n",
    "\n",
    "    def forward(self, x, edge_index):\n",
    "        # x: (batch, N, T, F)\n",
    "        # edge_index: (2, E)\n",
    "        batch_size, num_nodes, time_steps, num_features = x.shape\n",
    "        x = x.permute(0, 2, 1, 3)  # (batch, N, T, F) -> (batch, T, N, F)\n",
    "        x = x.reshape(-1, num_nodes, num_features)  # (batch * T, N, F)\n",
    "        \n",
    "        # Flatten edge_index\n",
    "        edge_index = edge_index.repeat(time_steps * batch_size, 1)  # Repeat edge_index for each time step and batch\n",
    "        edge_index = edge_index.view(2, -1)  # (2, E * batch_size * time_steps)\n",
    "        \n",
    "        x = x.reshape(-1, num_features)  # (batch * T * N, F)\n",
    "        x = self.gcn(x, edge_index)\n",
    "        x = x.view(batch_size, time_steps, num_nodes, -1)  # (batch, T, N, F)\n",
    "        x = x.permute(0, 2, 1, 3)  # (batch, T, N, F) -> (batch, N, T, F)\n",
    "        return x\n",
    "    \n",
    "class GCNConvLayer(MessagePassing):\n",
    "    \"\"\"GCNConv Layer, copied from pyG official website\"\"\"\n",
    "    def __init__(self, in_channels, out_channels):\n",
    "        super().__init__(aggr='add')  # \"Add\" aggregation (Step 5).\n",
    "        self.lin = Linear(in_channels, out_channels, bias=False)\n",
    "        self.bias = Parameter(torch.empty(out_channels))\n",
    "\n",
    "        self.reset_parameters()\n",
    "\n",
    "    def reset_parameters(self):\n",
    "        self.lin.reset_parameters()\n",
    "        self.bias.data.zero_()\n",
    "\n",
    "    def forward(self, x, edge_index):\n",
    "        # x has shape [N, in_channels]\n",
    "        # edge_index has shape [2, E]\n",
    "\n",
    "        # Step 1: Add self-loops to the adjacency matrix.\n",
    "        edge_index, _ = add_self_loops(edge_index, num_nodes=x.size(0))\n",
    "\n",
    "        # Step 2: Linearly transform node feature matrix.\n",
    "        x = self.lin(x)\n",
    "\n",
    "        # Step 3: Compute normalization.\n",
    "        row, col = edge_index\n",
    "        deg = degree(col, x.size(0), dtype=x.dtype)\n",
    "        deg_inv_sqrt = deg.pow(-0.5)\n",
    "        deg_inv_sqrt[deg_inv_sqrt == float('inf')] = 0\n",
    "        norm = deg_inv_sqrt[row] * deg_inv_sqrt[col]\n",
    "\n",
    "        # Step 4-5: Start propagating messages.\n",
    "        out = self.propagate(edge_index, x=x, norm=norm)\n",
    "\n",
    "        # Step 6: Apply a final bias vector.\n",
    "        out = out + self.bias\n",
    "\n",
    "        return out"
   ]
  },
  {
   "cell_type": "markdown",
   "metadata": {},
   "source": [
    "## 申明和定义模型"
   ]
  },
  {
   "cell_type": "code",
   "execution_count": null,
   "metadata": {},
   "outputs": [],
   "source": [
    "import torch.nn.functional as F\n",
    "from torch.nn import Module\n",
    "import torch.nn as nn\n",
    "import torch\n",
    "from model import layers\n",
    "\n",
    "class GCN(Module):\n",
    "    def __init__(self, num_features, num_classes):\n",
    "        super(GCN, self).__init__()\n",
    "        self.conv1 = layers.GCNConvLayer(num_features, 24)\n",
    "        self.conv2 = layers.GCNConvLayer(24, 16)\n",
    "        self.fc = torch.nn.Linear(16, num_classes)\n",
    "\n",
    "    def forward(self, data):\n",
    "        x, edge_index = data.x, data.edge_index\n",
    "        # node_mask = data.node_mask\n",
    "\n",
    "        # if node_mask is not None:\n",
    "        #     x = x * node_mask.unsqueeze(-1)\n",
    "\n",
    "        x = self.conv1(x, edge_index)\n",
    "        x = F.relu(x)\n",
    "        # x = F.dropout(x, training=self.training)\n",
    "        x = self.conv2(x, edge_index)\n",
    "        x = F.relu(x)\n",
    "        x = self.fc(x)\n",
    "        x = F.relu(x)\n",
    "        return x#F.log_softmax(x, dim=1)\n",
    "\n",
    "class STGCN(nn.Module):\n",
    "    def __init__(self, num_nodes, in_channels, time_steps, temporal_channels, spatial_channels, kernel_size,out_channels):\n",
    "        super(STGCN, self).__init__()\n",
    "        self.num_nodes = num_nodes\n",
    "        self.time_steps = time_steps\n",
    "        self.temporal1 = TemporalConvLayer(in_channels, temporal_channels, kernel_size)\n",
    "        self.spatial = SpatialConvLayer(temporal_channels, spatial_channels)\n",
    "        self.temporal2 = TemporalConvLayer(spatial_channels, in_channels, kernel_size)\n",
    "        self.fc = torch.nn.Linear(num_nodes * in_channels * time_steps, num_nodes * out_channels * time_steps)\n",
    "\n",
    "    def forward(self, x, edge_index):\n",
    "        x = self.temporal1(x)\n",
    "        x = self.spatial(x, edge_index)\n",
    "        x = self.temporal2(x)\n",
    "        x = x.reshape(x.shape[0], -1)  # Flatten\n",
    "        x = self.fc(x)\n",
    "        x = x.reshape(x.shape[0], self.num_nodes, self.time_steps, -1)  # Reshape back to (batch, N, T, F)\n",
    "        return x"
   ]
  },
  {
   "cell_type": "markdown",
   "metadata": {},
   "source": [
    "# 数据获取及预处理"
   ]
  },
  {
   "cell_type": "markdown",
   "metadata": {},
   "source": [
    "## 抓取实际站点数据，筛选处理之，并生成邻接矩阵"
   ]
  },
  {
   "cell_type": "code",
   "execution_count": null,
   "metadata": {},
   "outputs": [],
   "source": [
    "# station数据预处理函数\n",
    "def station2staion_no_line(station):\n",
    "    station_no_line = pd.DataFrame()\n",
    "    for i in range(len(station['站点名'].unique())):\n",
    "        spec_time_place_station = station[station['站点名'] == station['站点名'].unique()[i]]\n",
    "        # spec_time_place_station = spec_time_place_station[['开始时间','线路名','站点名','进站量','出站量']]\n",
    "        spec_time_place_station = spec_time_place_station.fillna(0)\n",
    "        spec_time_place_station = spec_time_place_station.groupby(['日期','开始时间','结束时间']).agg({\n",
    "            '站点名': 'first',  # 假设每个时间段内站点名是相同的，取第一个即可\n",
    "            '进站量': 'sum',\n",
    "            '出站量': 'sum'\n",
    "        })\n",
    "        spec_time_place_station = spec_time_place_station.reset_index()\n",
    "        station_no_line = pd.concat([station_no_line, spec_time_place_station]).reset_index(drop=True)\n",
    "    return station_no_line\n",
    "\n",
    "\n",
    "# prepare data\n",
    "line,stop = tbd.getbusdata('北京',['1号线', '2号线', '5号线', '6号线', '7号线', '8号线', '9&房山线','房山线', '10号线',\n",
    "       '13号线', '15号线', '昌平线', '首都机场线'])\n",
    "line = line[line['line']!='大兴机场大巴首都机场线'].reset_index(drop=True)\n",
    "stop = stop[stop['line']!='大兴机场大巴首都机场线'].reset_index(drop=True)\n",
    "line = line[line['line']!='首都机场大巴昌平线'].reset_index(drop=True)\n",
    "stop = stop[stop['line']!='首都机场大巴昌平线'].reset_index(drop=True)\n",
    "stop.loc[stop['stationnames'] == '清河站', 'stationnames'] = '清河'\n",
    "\n",
    "line_data = {'线路名': [], '站点名': [], '顺序': []}\n",
    "for i in range(len(stop)):\n",
    "    线路名 = line_data['线路名']\n",
    "    线路名.append(stop.loc[i, 'line'])\n",
    "    站点名 = line_data['站点名']\n",
    "    站点名.append(stop.loc[i, 'stationnames'])\n",
    "    顺序 = line_data['顺序']\n",
    "    顺序.append(stop.loc[i, 'id'])\n",
    "    line_data.update({'线路名':线路名, '站点名':站点名, '顺序':顺序})\n",
    "# 示例数据\n",
    "# line_data = {\n",
    "#     '线路名': ['1号线', '1号线', '1号线', '2号线', '2号线'],\n",
    "#     '站点名': ['站点A', '站点B', '站点C', '站点B', '站点D'],\n",
    "#     '顺序': [1, 2, 3, 1, 2]\n",
    "# }\n",
    "\n",
    "\n",
    "stop_data = {'站点名':list(stop['stationnames'].unique())}\n",
    "# 示例数据\n",
    "# stop_data = {\n",
    "#     '站点名': ['站点A', '站点B', '站点C', '站点D'],\n",
    "#     '其他信息': ['infoA', 'infoB', 'infoC', 'infoD']\n",
    "# }\n",
    "\n",
    "line_for_adj = pd.DataFrame(line_data)\n",
    "stop_for_adj = pd.DataFrame(stop_data)\n",
    "\n",
    "# 构建地铁网络图\n",
    "G = nx.Graph()\n",
    "\n",
    "# 添加节点\n",
    "for station_for_adj in stop_for_adj['站点名']:\n",
    "    G.add_node(station_for_adj)\n",
    "\n",
    "# 添加边（根据站点顺序）\n",
    "for line_name, group in line_for_adj.groupby('线路名'):\n",
    "    sorted_stations = group.sort_values('顺序')['站点名'].tolist()\n",
    "    for i in range(len(sorted_stations) - 1):\n",
    "        G.add_edge(sorted_stations[i], sorted_stations[i + 1])\n",
    "\n",
    "# 提取邻接矩阵\n",
    "adj_matrix = nx.adjacency_matrix(G).todense()"
   ]
  },
  {
   "cell_type": "markdown",
   "metadata": {},
   "source": [
    "## 读取csv文件数据"
   ]
  },
  {
   "cell_type": "code",
   "execution_count": null,
   "metadata": {},
   "outputs": [],
   "source": [
    "# 读取csv\n",
    "path = 'CTS-2024-dataset/'\n",
    "station_csv_file = ['station_20230519.csv',\n",
    "                    'station_20230520.csv',\n",
    "                    'station_20230521.csv',\n",
    "                    'station_20230522.csv',\n",
    "                    'station_20230523.csv',\n",
    "                    'station_20230524.csv',\n",
    "                    'station_20230525.csv',]\n",
    "station_input_csv_select = range(len(station_csv_file))\n",
    "station_csv_sel_list = [path + station_csv_file[i] for i in station_input_csv_select]\n",
    "# stationList = utility.cstRawCsvData([path + station_csv_file[i] for i in station_input_csv_select])\n",
    "station = utility.get_station_for_adj(stop_for_adj, station_csv_sel_list)\n",
    "station = station2staion_no_line(station) # 合并分布在不同线路上的同一站点数据"
   ]
  },
  {
   "cell_type": "markdown",
   "metadata": {},
   "source": [
    "## 数据预处理"
   ]
  },
  {
   "cell_type": "code",
   "execution_count": 2,
   "metadata": {},
   "outputs": [],
   "source": [
    "# 数据预加载\n",
    "from datetime import datetime\n",
    "\n",
    "sta_info_for_adj = pd.DataFrame(columns=['station_name', 'abs_date', 'time_point', 'day_of_week', 'is_event', 'in_flow', 'out_flow'])\n",
    "for i in range(len(station)):\n",
    "    station_name = station.loc[i, '站点名']\n",
    "    precise_time = datetime.strptime(station.loc[i, '开始时间'], '%Y/%m/%d %H:%M:%S')\n",
    "\n",
    "    time_diff = precise_time - datetime.strptime('2023/5/19 00:00:00', '%Y/%m/%d %H:%M:%S')\n",
    "    abs_date = time_diff.days + 1 # 从1开始编号，五月19是第一天\n",
    "\n",
    "    time_point = (precise_time.hour * 60 + precise_time.minute) / 30\n",
    "\n",
    "    day_of_week = precise_time.weekday() # Monday == 0 ... Sunday == 6\n",
    "\n",
    "    event_condition = ((precise_time.day == 26 or precise_time.day == 27) and precise_time.month == 5) or ((precise_time.day == 25) and precise_time.month == 8)\n",
    "    is_event = 1.0 if event_condition else 0.0\n",
    "\n",
    "    in_flow = float(station.loc[i, '进站量'])\n",
    "    out_flow = float(station.loc[i, '出站量'])\n",
    "\n",
    "    sta_info_for_adj.loc[i] = [station_name, abs_date, time_point, day_of_week, is_event, in_flow, out_flow]\n"
   ]
  },
  {
   "cell_type": "markdown",
   "metadata": {},
   "source": [
    "## 设置站点掩码"
   ]
  },
  {
   "cell_type": "code",
   "execution_count": 4,
   "metadata": {},
   "outputs": [
    {
     "name": "stdout",
     "output_type": "stream",
     "text": [
      "the length of remain_staion_list is  135\n"
     ]
    },
    {
     "data": {
      "text/plain": [
       "tensor([ True, False, False, False, False,  True, False,  True,  True, False,\n",
       "        False,  True, False,  True,  True, False,  True, False,  True,  True,\n",
       "         True,  True, False,  True,  True,  True, False, False,  True,  True,\n",
       "         True,  True,  True, False, False, False, False, False, False, False,\n",
       "        False, False, False, False,  True,  True, False, False, False,  True,\n",
       "         True,  True,  True, False,  True,  True,  True,  True,  True, False,\n",
       "         True, False, False,  True,  True, False, False, False,  True, False,\n",
       "         True,  True,  True,  True, False,  True,  True,  True,  True, False,\n",
       "         True,  True, False, False, False, False,  True, False, False, False,\n",
       "        False,  True, False, False,  True,  True,  True, False, False,  True,\n",
       "         True, False,  True,  True, False, False, False,  True,  True, False,\n",
       "         True,  True,  True, False,  True,  True, False,  True,  True,  True,\n",
       "         True,  True, False, False,  True, False, False, False,  True, False,\n",
       "         True, False, False,  True, False, False, False,  True, False, False,\n",
       "        False,  True,  True, False,  True,  True,  True, False,  True,  True,\n",
       "        False,  True,  True, False,  True,  True,  True,  True,  True, False,\n",
       "        False, False,  True,  True,  True, False, False,  True,  True, False,\n",
       "         True, False, False,  True,  True, False, False, False, False,  True,\n",
       "         True,  True, False,  True,  True, False,  True,  True,  True,  True,\n",
       "         True, False,  True, False, False, False, False, False,  True,  True,\n",
       "        False, False,  True, False,  True, False,  True,  True,  True, False,\n",
       "         True,  True,  True, False, False,  True,  True,  True,  True,  True,\n",
       "        False, False, False,  True,  True,  True, False, False,  True, False,\n",
       "         True, False, False, False,  True,  True, False,  True, False,  True,\n",
       "         True, False, False,  True, False, False, False, False, False, False,\n",
       "         True, False, False,  True,  True, False, False,  True,  True,  True,\n",
       "         True, False,  True, False,  True,  True, False, False,  True,  True,\n",
       "        False,  True, False,  True,  True, False,  True,  True,  True, False,\n",
       "         True,  True, False, False, False])"
      ]
     },
     "execution_count": 4,
     "metadata": {},
     "output_type": "execute_result"
    }
   ],
   "source": [
    "def get_station_mask(stop_for_adj: pd.DataFrame, csv_list: list[str]) -> torch.tensor:\n",
    "    output_mask = torch.ones(len(stop_for_adj)).tolist()\n",
    "    categories_list = list(stop_for_adj['站点名'])\n",
    "    rem_stop_list = utility.get_rem_sta_list(stop_for_adj, csv_list)\n",
    "    for stop_i in range(len(categories_list)):\n",
    "        if categories_list[stop_i] in rem_stop_list:\n",
    "            output_mask[stop_i] = False\n",
    "\n",
    "    for i in range(len(output_mask)):\n",
    "        if output_mask[i]:\n",
    "            output_mask[i] = True\n",
    "\n",
    "    return torch.tensor(output_mask)\n",
    "\n",
    "station_mask = get_station_mask(stop_for_adj, station_csv_sel_list)\n",
    "station_mask"
   ]
  },
  {
   "cell_type": "markdown",
   "metadata": {},
   "source": [
    "## 预处理数据放入input_data中"
   ]
  },
  {
   "cell_type": "code",
   "execution_count": 5,
   "metadata": {},
   "outputs": [],
   "source": [
    "def norm_min_max(input_array: np.array, min_array: np.array, max_array: np.array) -> np.array:\n",
    "    return (input_array - min_array) / (max_array - min_array)\n",
    "\n",
    "def abnorm_min_max(input_array: np.array, min_array: np.array, max_array: np.array) -> np.array:\n",
    "    return input_array * (max_array - min_array) + min_array\n",
    "\n",
    "from sklearn.preprocessing import StandardScaler\n",
    "\n",
    "categories_list = list(stop_for_adj['站点名'])\n",
    "ori_x = []\n",
    "ori_y = []\n",
    "# scaler = StandardScaler()\n",
    "norm_x = []\n",
    "norm_y = []\n",
    "for i in sta_info_for_adj.groupby([\"abs_date\",\"time_point\"]):\n",
    "    temp = i[1]\n",
    "    temp['station_name'] = pd.Categorical(temp['station_name'], categories=categories_list, ordered=True)\n",
    "    temp = temp.sort_values(by=['station_name']).reset_index(drop=True)#特定日期特定时间的所有站点已知数据\n",
    "    features = temp[['abs_date','time_point','day_of_week','is_event']].values\n",
    "    labels = temp[['in_flow','out_flow']].values\n",
    "    ori_x.append(features)\n",
    "    ori_y.append(labels)\n",
    "    # features = scaler.fit_transform(features)\n",
    "    # labels = scaler.fit_transform(labels)\n",
    "    # norm_x.append(features)\n",
    "    # norm_y.append(labels)\n",
    "\n",
    "total_x = np.vstack(ori_x)\n",
    "total_y = np.vstack(ori_y)\n",
    "\n",
    "min_x, max_x = total_x.min(axis=0), total_x.max(axis=0)\n",
    "for i in range(len(max_x)):\n",
    "    if max_x[i] == min_x[i]:\n",
    "        max_x[i] = 1.0\n",
    "min_y, max_y = total_y.min(axis=0), total_y.max(axis=0)\n",
    "\n",
    "for i in range(len(ori_x)):\n",
    "    tmp_feature = norm_min_max(ori_x[i], min_x, max_x)\n",
    "    tmp_labels = norm_min_max(ori_y[i], min_y, max_y)\n",
    "    norm_x.append(tmp_feature)\n",
    "    norm_y.append(tmp_labels)\n",
    "norm_x = np.array(norm_x)\n",
    "norm_y = np.array(norm_y)\n",
    "\n",
    "\n",
    "\n",
    "# 准备模型输入与loss标杆\n",
    "# 找到所有非零元素的索引\n",
    "adj_matrix = np.array(adj_matrix)\n",
    "row, col = np.nonzero(adj_matrix)\n",
    "\n",
    "# 将这些索引转换为 PyTorch 张量\n",
    "edge_index = torch.tensor(np.array([row, col]), dtype=torch.long)\n",
    "data_input: List[Data] = [Data(x=torch.tensor(norm_x[epoch], dtype=torch.float),\n",
    "                               edge_index=edge_index,\n",
    "                               y=torch.tensor(norm_y[epoch], dtype=torch.float),\n",
    "                               node_mask=station_mask)\n",
    "                          for epoch in range(len(norm_x))]"
   ]
  },
  {
   "cell_type": "code",
   "execution_count": 42,
   "metadata": {},
   "outputs": [
    {
     "data": {
      "text/plain": [
       "np.float64(0.0)"
      ]
     },
     "execution_count": 42,
     "metadata": {},
     "output_type": "execute_result"
    }
   ],
   "source": [
    "total_x[:, 3].sum()"
   ]
  },
  {
   "cell_type": "code",
   "execution_count": 15,
   "metadata": {},
   "outputs": [],
   "source": [
    "qq = []\n",
    "for i in sta_info_for_adj.groupby([\"abs_date\",\"time_point\"]):\n",
    "    qq.append(i)"
   ]
  },
  {
   "cell_type": "markdown",
   "metadata": {},
   "source": [
    "## 转换格式以适配STGCN"
   ]
  },
  {
   "cell_type": "code",
   "execution_count": 6,
   "metadata": {},
   "outputs": [],
   "source": [
    "# 将datainput中的数据转换为STGCN能用的格式\n",
    "\n",
    "traning_data = data_input[:-48]\n",
    "time_nodes_features = []\n",
    "for i in range(len(traning_data)):\n",
    "    time_nodes_features.append(traning_data[i].x)\n",
    "time_nodes_features = torch.stack(time_nodes_features)\n",
    "nodes_time_features = time_nodes_features.permute(1, 0, 2)\n",
    "STGCNX = nodes_time_features.unsqueeze(0)\n",
    "time_nodes_labels = []\n",
    "for i in range(len(traning_data)):\n",
    "    time_nodes_labels.append(traning_data[i].y[:,0])\n",
    "time_nodes_labels = torch.stack(time_nodes_labels)\n",
    "time_nodes_labels = time_nodes_labels.unsqueeze(-1)\n",
    "nodes_time_labels = time_nodes_labels.permute(1, 0, 2)\n",
    "STGCNY = nodes_time_labels.unsqueeze(0)"
   ]
  },
  {
   "cell_type": "code",
   "execution_count": 7,
   "metadata": {},
   "outputs": [
    {
     "data": {
      "text/plain": [
       "torch.Size([1, 285, 288, 4])"
      ]
     },
     "execution_count": 7,
     "metadata": {},
     "output_type": "execute_result"
    }
   ],
   "source": [
    "STGCNX.shape"
   ]
  },
  {
   "cell_type": "code",
   "execution_count": 8,
   "metadata": {},
   "outputs": [
    {
     "data": {
      "text/plain": [
       "torch.Size([6, 285, 48, 4])"
      ]
     },
     "execution_count": 8,
     "metadata": {},
     "output_type": "execute_result"
    }
   ],
   "source": [
    "STGCNY = STGCNY.view(1, 285, 6, 48, 1).permute(2, 1, 3, 4, 0).squeeze(-1)\n",
    "STGCNX = STGCNX.view(1, 285, 6, 48, 4).permute(2, 1, 3, 4, 0).squeeze(-1)\n",
    "STGCNX.shape"
   ]
  },
  {
   "cell_type": "markdown",
   "metadata": {},
   "source": [
    "# 训练及预测"
   ]
  },
  {
   "cell_type": "markdown",
   "metadata": {},
   "source": [
    "## 训练STGCN"
   ]
  },
  {
   "cell_type": "code",
   "execution_count": 1,
   "metadata": {},
   "outputs": [
    {
     "ename": "NameError",
     "evalue": "name 'STGCNY' is not defined",
     "output_type": "error",
     "traceback": [
      "\u001b[0;31m---------------------------------------------------------------------------\u001b[0m",
      "\u001b[0;31mNameError\u001b[0m                                 Traceback (most recent call last)",
      "Cell \u001b[0;32mIn[1], line 23\u001b[0m\n\u001b[1;32m     21\u001b[0m \u001b[38;5;28;01mfrom\u001b[39;00m \u001b[38;5;21;01mmodel\u001b[39;00m \u001b[38;5;28;01mimport\u001b[39;00m models\n\u001b[1;32m     22\u001b[0m \u001b[38;5;66;03m# 模拟数据\u001b[39;00m\n\u001b[0;32m---> 23\u001b[0m batch_size \u001b[38;5;241m=\u001b[39m \u001b[43mSTGCNY\u001b[49m\u001b[38;5;241m.\u001b[39mshape[\u001b[38;5;241m0\u001b[39m]\n\u001b[1;32m     24\u001b[0m num_nodes \u001b[38;5;241m=\u001b[39m STGCNY\u001b[38;5;241m.\u001b[39mshape[\u001b[38;5;241m1\u001b[39m]\n\u001b[1;32m     25\u001b[0m time_steps \u001b[38;5;241m=\u001b[39m STGCNY\u001b[38;5;241m.\u001b[39mshape[\u001b[38;5;241m2\u001b[39m]\n",
      "\u001b[0;31mNameError\u001b[0m: name 'STGCNY' is not defined"
     ]
    }
   ],
   "source": [
    "import math\n",
    "import torch\n",
    "import torch.nn as nn\n",
    "import torch.nn.functional as F\n",
    "import torch.nn.init as init\n",
    "\n",
    "import torch.optim as optim\n",
    "from torch_geometric.nn import GCNConv\n",
    "import torch_geometric.nn as pyg_nn\n",
    "import torch_geometric.utils as pyg_utils\n",
    "\n",
    "from torch.nn import Linear, Parameter\n",
    "from torch_geometric.nn import MessagePassing\n",
    "from torch_geometric.utils import add_self_loops, degree\n",
    "\n",
    "# 假设你已经有了输入数据和标签数据\n",
    "# 输入数据形状: (batch_size, N, T, F)\n",
    "# 标签数据形状: (batch_size, N, T, F)\n",
    "# edge_index: 图的边信息，形状为 (2, E)\n",
    "from tqdm import tqdm\n",
    "from model import models\n",
    "# 模拟数据\n",
    "batch_size = STGCNY.shape[0]\n",
    "num_nodes = STGCNY.shape[1]\n",
    "time_steps = STGCNY.shape[2]\n",
    "num_features = STGCNX.shape[3]\n",
    "\n",
    "x = STGCNX\n",
    "y = STGCNY\n",
    "edge_index = data_input[0].edge_index\n",
    "\n",
    "# 定义模型、损失函数和优化器\n",
    "model = STGCN(num_nodes, num_features,time_steps, 16, 32, (3, 1),1)\n",
    "criterion = nn.MSELoss()\n",
    "optimizer = optim.Adam(model.parameters(), lr=0.001)\n",
    "\n",
    "# 训练循环\n",
    "num_epochs = 50\n",
    "for epoch in tqdm(range(num_epochs)):\n",
    "    model.train()\n",
    "    optimizer.zero_grad()\n",
    "    output = model(x, edge_index)\n",
    "    loss = criterion(output, y)\n",
    "    loss.backward()\n",
    "    optimizer.step()\n",
    "    if (epoch + 1) % 10 == 0:\n",
    "        print(f'Epoch [{epoch + 1}/{num_epochs}], Loss: {loss.item():.4f}')"
   ]
  },
  {
   "cell_type": "markdown",
   "metadata": {},
   "source": [
    "## 训练GCN（效果不佳）"
   ]
  },
  {
   "cell_type": "code",
   "execution_count": 80,
   "metadata": {},
   "outputs": [],
   "source": [
    "# prepare model parameters\n",
    "num_features = 4\n",
    "num_classes = 2\n",
    "model = models.GCN(num_features, num_classes)\n",
    "optimizer = torch.optim.Adam(model.parameters(), lr=0.001)\n",
    "criterion = torch.nn.MSELoss()\n"
   ]
  },
  {
   "cell_type": "code",
   "execution_count": 68,
   "metadata": {},
   "outputs": [
    {
     "data": {
      "text/plain": [
       "GCN(\n",
       "  (conv1): GCNConvLayer()\n",
       "  (conv2): GCNConvLayer()\n",
       ")"
      ]
     },
     "execution_count": 68,
     "metadata": {},
     "output_type": "execute_result"
    }
   ],
   "source": [
    "model"
   ]
  },
  {
   "cell_type": "code",
   "execution_count": 208,
   "metadata": {},
   "outputs": [
    {
     "name": "stdout",
     "output_type": "stream",
     "text": [
      "dup_i= 0 \t\tloss= 1.0487738847732544 0.8866744637489319\n",
      "dup_i= 5 \t\tloss= 1.045677661895752 0.8850721716880798\n",
      "dup_i= 10 \t\tloss= 1.0426113605499268 0.8833793997764587\n",
      "dup_i= 15 \t\tloss= 1.039470911026001 0.881721556186676\n",
      "dup_i= 20 \t\tloss= 1.0361483097076416 0.8800247311592102\n",
      "dup_i= 25 \t\tloss= 1.0327740907669067 0.8782592415809631\n",
      "dup_i= 30 \t\tloss= 1.0288740396499634 0.8764190077781677\n",
      "dup_i= 35 \t\tloss= 1.0245531797409058 0.8745103478431702\n",
      "dup_i= 40 \t\tloss= 1.0207010507583618 0.8726089596748352\n",
      "dup_i= 45 \t\tloss= 1.0170156955718994 0.870704710483551\n"
     ]
    }
   ],
   "source": [
    "# start training\n",
    "import random\n",
    "duptimes = 50 # 每个数据输入进模型训练的次数\n",
    "total_input_sz = len(data_input)\n",
    "# random.shuffle(data_input)\n",
    "test_set_sz = 48 # 预测集大小\n",
    "train_set_sz = total_input_sz - test_set_sz\n",
    "model.train()\n",
    "for dup_i in range(duptimes):\n",
    "    optimizer.zero_grad()  # 清除梯度\n",
    "    loss1,loss2=0.0,0.0\n",
    "    for epoch in range(train_set_sz):\n",
    "        out_y = model(data_input[epoch])  # 前向传播\n",
    "        out_y1_for_loss = out_y[:, 0][station_mask]\n",
    "        out_y2_for_loss = out_y[:, 1][station_mask]\n",
    "        true_y1_for_loss = data_input[epoch].y[:, 0][station_mask]\n",
    "        true_y2_for_loss = data_input[epoch].y[:, 1][station_mask]\n",
    "        loss1 += criterion(out_y1_for_loss, true_y1_for_loss)  # 计算损失\n",
    "        loss2 += criterion(out_y2_for_loss, true_y2_for_loss)\n",
    "    loss = loss1+loss2  # 加权求和\n",
    "    if dup_i % (duptimes / 20) == 0:\n",
    "        print('dup_i=', dup_i, '\\t\\tloss=', loss1.item(),loss2.item())\n",
    "    loss.backward()  # 反向传播\n",
    "    optimizer.step()  # 更新参数\n",
    "\n"
   ]
  },
  {
   "cell_type": "code",
   "execution_count": 200,
   "metadata": {},
   "outputs": [
    {
     "data": {
      "text/plain": [
       "tensor([6.9284e-02, 0.0000e+00, 0.0000e+00, 0.0000e+00, 0.0000e+00, 1.2788e-02,\n",
       "        0.0000e+00, 3.0757e-02, 3.2376e-03, 0.0000e+00, 0.0000e+00, 1.9425e-02,\n",
       "        0.0000e+00, 2.8005e-02, 2.1611e-02, 0.0000e+00, 1.1291e-01, 0.0000e+00,\n",
       "        3.6018e-02, 3.5775e-02, 9.6722e-02, 3.5880e-01, 0.0000e+00, 6.9284e-02,\n",
       "        2.1530e-02, 2.1611e-02, 0.0000e+00, 0.0000e+00, 2.2258e-02, 1.8778e-02,\n",
       "        4.8644e-02, 2.8652e-02, 2.3229e-02, 0.0000e+00, 0.0000e+00, 0.0000e+00,\n",
       "        0.0000e+00, 0.0000e+00, 0.0000e+00, 0.0000e+00, 0.0000e+00, 0.0000e+00,\n",
       "        0.0000e+00, 0.0000e+00, 1.2958e-01, 3.0676e-02, 0.0000e+00, 0.0000e+00,\n",
       "        0.0000e+00, 1.2465e-02, 1.1501e-01, 7.2926e-02, 1.3954e-01, 0.0000e+00,\n",
       "        2.6224e-02, 8.9599e-02, 1.5977e-01, 1.8373e-02, 2.4363e-02, 0.0000e+00,\n",
       "        1.3274e-02, 0.0000e+00, 0.0000e+00, 1.8778e-02, 1.5217e-02, 0.0000e+00,\n",
       "        0.0000e+00, 0.0000e+00, 2.6710e-02, 0.0000e+00, 3.7232e-02, 2.3391e-02,\n",
       "        1.6997e-02, 2.1449e-02, 0.0000e+00, 2.6710e-02, 4.4840e-02, 1.9587e-02,\n",
       "        3.0919e-02, 0.0000e+00, 3.0676e-02, 3.7394e-02, 0.0000e+00, 0.0000e+00,\n",
       "        0.0000e+00, 0.0000e+00, 5.0182e-03, 0.0000e+00, 0.0000e+00, 0.0000e+00,\n",
       "        0.0000e+00, 1.3760e-02, 0.0000e+00, 0.0000e+00, 9.4698e-03, 1.2602e-01,\n",
       "        8.6443e-02, 0.0000e+00, 0.0000e+00, 1.7321e-02, 3.0676e-02, 0.0000e+00,\n",
       "        1.3598e-02, 1.2626e-02, 0.0000e+00, 0.0000e+00, 0.0000e+00, 1.7726e-02,\n",
       "        9.9555e-03, 0.0000e+00, 3.6423e-03, 5.5038e-03, 1.8049e-01, 0.0000e+00,\n",
       "        2.0478e-02, 4.6783e-02, 0.0000e+00, 1.4569e-02, 4.3383e-02, 1.3274e-02,\n",
       "        2.3229e-02, 1.5783e-02, 0.0000e+00, 0.0000e+00, 2.0073e-02, 0.0000e+00,\n",
       "        0.0000e+00, 0.0000e+00, 6.8231e-02, 0.0000e+00, 6.9607e-03, 0.0000e+00,\n",
       "        0.0000e+00, 5.4229e-03, 0.0000e+00, 0.0000e+00, 0.0000e+00, 1.2141e-03,\n",
       "        0.0000e+00, 0.0000e+00, 0.0000e+00, 9.0652e-03, 1.5702e-02, 0.0000e+00,\n",
       "        2.6710e-02, 8.5795e-03, 1.4407e-02, 0.0000e+00, 3.9741e-02, 8.3124e-02,\n",
       "        0.0000e+00, 1.5702e-02, 2.0235e-02, 0.0000e+00, 4.8806e-02, 2.1125e-02,\n",
       "        5.0344e-02, 6.0785e-02, 1.8778e-02, 0.0000e+00, 0.0000e+00, 0.0000e+00,\n",
       "        6.7989e-03, 3.9660e-03, 5.6657e-03, 0.0000e+00, 0.0000e+00, 1.5864e-02,\n",
       "        2.4282e-04, 0.0000e+00, 2.8086e-02, 0.0000e+00, 0.0000e+00, 6.5561e-03,\n",
       "        7.9320e-03, 0.0000e+00, 0.0000e+00, 0.0000e+00, 0.0000e+00, 1.9021e-02,\n",
       "        1.3355e-02, 7.2036e-03, 0.0000e+00, 8.4986e-03, 1.9021e-02, 0.0000e+00,\n",
       "        9.2270e-03, 2.0558e-02, 9.7127e-03, 8.3367e-03, 1.0441e-02, 0.0000e+00,\n",
       "        2.4282e-04, 0.0000e+00, 0.0000e+00, 0.0000e+00, 0.0000e+00, 0.0000e+00,\n",
       "        1.1412e-02, 2.2501e-02, 0.0000e+00, 0.0000e+00, 1.1251e-02, 0.0000e+00,\n",
       "        9.3889e-03, 0.0000e+00, 0.0000e+00, 2.7762e-02, 1.3112e-02, 0.0000e+00,\n",
       "        1.1979e-02, 4.2898e-03, 3.4966e-02, 0.0000e+00, 0.0000e+00, 4.2250e-02,\n",
       "        6.9122e-02, 1.1251e-02, 4.2574e-02, 5.1639e-02, 0.0000e+00, 0.0000e+00,\n",
       "        0.0000e+00, 2.1044e-02, 2.2663e-02, 4.0712e-02, 0.0000e+00, 0.0000e+00,\n",
       "        1.5378e-02, 0.0000e+00, 7.0093e-02, 0.0000e+00, 0.0000e+00, 0.0000e+00,\n",
       "        7.2845e-03, 2.4120e-02, 0.0000e+00, 2.2096e-02, 0.0000e+00, 4.6459e-02,\n",
       "        1.0117e-01, 0.0000e+00, 0.0000e+00, 2.2663e-02, 0.0000e+00, 0.0000e+00,\n",
       "        0.0000e+00, 0.0000e+00, 0.0000e+00, 0.0000e+00, 1.3679e-02, 0.0000e+00,\n",
       "        0.0000e+00, 2.7843e-02, 1.4002e-02, 0.0000e+00, 0.0000e+00, 1.5783e-02,\n",
       "        2.9219e-02, 8.1748e-03, 1.8373e-02, 0.0000e+00, 6.1271e-02, 0.0000e+00,\n",
       "        1.9183e-02, 8.0939e-03, 0.0000e+00, 0.0000e+00, 2.1773e-02, 1.5864e-02,\n",
       "        0.0000e+00, 1.1008e-02, 0.0000e+00, 2.4282e-03, 2.6872e-02, 0.0000e+00,\n",
       "        1.1979e-02, 2.3472e-03, 1.1655e-02, 0.0000e+00, 5.0992e-03, 6.0704e-03,\n",
       "        0.0000e+00, 0.0000e+00, 0.0000e+00])"
      ]
     },
     "execution_count": 200,
     "metadata": {},
     "output_type": "execute_result"
    }
   ],
   "source": [
    "data_input[epoch].y[:, 1]"
   ]
  },
  {
   "cell_type": "markdown",
   "metadata": {},
   "source": [
    "## 预测"
   ]
  },
  {
   "cell_type": "code",
   "execution_count": 209,
   "metadata": {},
   "outputs": [
    {
     "name": "stderr",
     "output_type": "stream",
     "text": [
      "/tmp/ipykernel_2772/949442471.py:5: DeprecationWarning: __array_wrap__ must accept context and return_scalar arguments (positionally) in the future. (Deprecated NumPy 2.0)\n",
      "  return input_array * (max_array - min_array) + min_array\n"
     ]
    }
   ],
   "source": [
    "# make prediction\n",
    "model.eval()\n",
    "predict_data: List[Data] = data_input[:train_set_sz]\n",
    "\n",
    "predict_in_flow = []\n",
    "predict_out_flow = []\n",
    "for piece in predict_data:\n",
    "    pre_out = model(piece)\n",
    "    pre_out = abnorm_min_max(pre_out.detach(), min_y, max_y)\n",
    "    predict_in_flow.append(pre_out[:, 0][station_mask])\n",
    "    predict_out_flow.append(pre_out[:, 1][station_mask])"
   ]
  },
  {
   "cell_type": "code",
   "execution_count": 191,
   "metadata": {},
   "outputs": [
    {
     "data": {
      "text/plain": [
       "tensor([[0.1667, 0.3830, 0.8333, 0.0000],\n",
       "        [0.1667, 0.3830, 0.8333, 0.0000],\n",
       "        [0.1667, 0.3830, 0.8333, 0.0000],\n",
       "        ...,\n",
       "        [0.1667, 0.3830, 0.8333, 0.0000],\n",
       "        [0.1667, 0.3830, 0.8333, 0.0000],\n",
       "        [0.1667, 0.3830, 0.8333, 0.0000]])"
      ]
     },
     "execution_count": 191,
     "metadata": {},
     "output_type": "execute_result"
    }
   ],
   "source": [
    "piece.x"
   ]
  },
  {
   "cell_type": "markdown",
   "metadata": {},
   "source": [
    "## 验证效果"
   ]
  },
  {
   "cell_type": "code",
   "execution_count": 214,
   "metadata": {},
   "outputs": [
    {
     "name": "stdout",
     "output_type": "stream",
     "text": [
      "MAE for In-Flow: 294.89452227554597, RMSE for In-Flow: 551.6093916680111\n",
      "MAE for Out-Flow: 344.7119567662561, RMSE for Out-Flow: 678.5714668685806\n"
     ]
    }
   ],
   "source": [
    "from sklearn.metrics import mean_absolute_error, mean_squared_error\n",
    "\n",
    "# 将预测值和真实值转换为 numpy 数组以便使用 sklearn 库计算评估指标\n",
    "true_in_flow = np.array([data.y[:, 0][station_mask].detach().numpy() for data in predict_data])\n",
    "true_out_flow = np.array([data.y[:, 1][station_mask].detach().numpy() for data in predict_data])\n",
    "predicted_in_flow = np.array([out.detach().numpy() for out in predict_in_flow])\n",
    "predicted_out_flow = np.array([out.detach().numpy() for out in predict_out_flow])\n",
    "\n",
    "# 计算 MAE 和 RMSE\n",
    "true_in_flow = abnorm_min_max(true_in_flow,min_y[0],max_y[0])\n",
    "true_out_flow = abnorm_min_max(true_out_flow,min_y[1],max_y[1])\n",
    "mae_in = mean_absolute_error(true_in_flow, predicted_in_flow)\n",
    "rmse_in = np.sqrt(mean_squared_error(true_in_flow, predicted_in_flow))\n",
    "\n",
    "mae_out = mean_absolute_error(true_out_flow, predicted_out_flow)\n",
    "rmse_out = np.sqrt(mean_squared_error(true_out_flow, predicted_out_flow))\n",
    "\n",
    "print(f\"MAE for In-Flow: {mae_in}, RMSE for In-Flow: {rmse_in}\")\n",
    "print(f\"MAE for Out-Flow: {mae_out}, RMSE for Out-Flow: {rmse_out}\")"
   ]
  },
  {
   "cell_type": "code",
   "execution_count": 223,
   "metadata": {},
   "outputs": [
    {
     "data": {
      "text/plain": [
       "[<matplotlib.lines.Line2D at 0x7f9c839b0500>]"
      ]
     },
     "execution_count": 223,
     "metadata": {},
     "output_type": "execute_result"
    },
    {
     "data": {
      "image/png": "[encoded data removed]",
      "text/plain": [
       "<Figure size 640x480 with 1 Axes>"
      ]
     },
     "metadata": {},
     "output_type": "display_data"
    }
   ],
   "source": [
    "# plt.plot(true_in_flow[:,-3])\n",
    "plt.plot(predicted_in_flow[:,-3])\n",
    "plt.plot(predicted_in_flow[:,-45])"
   ]
  },
  {
   "cell_type": "code",
   "execution_count": 218,
   "metadata": {},
   "outputs": [
    {
     "data": {
      "text/plain": [
       "(288, 150)"
      ]
     },
     "execution_count": 218,
     "metadata": {},
     "output_type": "execute_result"
    }
   ],
   "source": []
  },
  {
   "cell_type": "code",
   "execution_count": 177,
   "metadata": {},
   "outputs": [
    {
     "ename": "ValueError",
     "evalue": "operands could not be broadcast together with shapes (48,150) (288,150) ",
     "output_type": "error",
     "traceback": [
      "\u001b[0;31m---------------------------------------------------------------------------\u001b[0m",
      "\u001b[0;31mValueError\u001b[0m                                Traceback (most recent call last)",
      "Cell \u001b[0;32mIn[177], line 1\u001b[0m\n\u001b[0;32m----> 1\u001b[0m \u001b[38;5;28mabs\u001b[39m(\u001b[43mnp\u001b[49m\u001b[38;5;241;43m.\u001b[39;49m\u001b[43marray\u001b[49m\u001b[43m(\u001b[49m\u001b[43mtorch\u001b[49m\u001b[38;5;241;43m.\u001b[39;49m\u001b[43mtensor\u001b[49m\u001b[43m(\u001b[49m\u001b[43mnp\u001b[49m\u001b[38;5;241;43m.\u001b[39;49m\u001b[43marray\u001b[49m\u001b[43m(\u001b[49m\u001b[43mori_y\u001b[49m\u001b[43m)\u001b[49m\u001b[43m[\u001b[49m\u001b[38;5;241;43m-\u001b[39;49m\u001b[38;5;241;43m48\u001b[39;49m\u001b[43m:\u001b[49m\u001b[43m]\u001b[49m\u001b[43m)\u001b[49m\u001b[38;5;241;43m.\u001b[39;49m\u001b[43mpermute\u001b[49m\u001b[43m(\u001b[49m\u001b[38;5;241;43m1\u001b[39;49m\u001b[43m,\u001b[49m\u001b[38;5;241;43m0\u001b[39;49m\u001b[43m,\u001b[49m\u001b[38;5;241;43m2\u001b[39;49m\u001b[43m)\u001b[49m\u001b[43m[\u001b[49m\u001b[43mstation_mask\u001b[49m\u001b[43m]\u001b[49m\u001b[43m[\u001b[49m\u001b[43m:\u001b[49m\u001b[43m,\u001b[49m\u001b[43m:\u001b[49m\u001b[43m,\u001b[49m\u001b[38;5;241;43m0\u001b[39;49m\u001b[43m]\u001b[49m\u001b[38;5;241;43m.\u001b[39;49m\u001b[43mpermute\u001b[49m\u001b[43m(\u001b[49m\u001b[38;5;241;43m1\u001b[39;49m\u001b[43m,\u001b[49m\u001b[38;5;241;43m0\u001b[39;49m\u001b[43m)\u001b[49m\u001b[43m)\u001b[49m\u001b[38;5;241;43m-\u001b[39;49m\u001b[43mpredicted_in_flow\u001b[49m)\u001b[38;5;241m.\u001b[39mmean()\n",
      "\u001b[0;31mValueError\u001b[0m: operands could not be broadcast together with shapes (48,150) (288,150) "
     ]
    }
   ],
   "source": [
    "abs(np.array(torch.tensor(np.array(ori_y)[-48:]).permute(1,0,2)[station_mask][:,:,0].permute(1,0))-predicted_in_flow).mean()"
   ]
  },
  {
   "cell_type": "code",
   "execution_count": 180,
   "metadata": {},
   "outputs": [
    {
     "data": {
      "text/plain": [
       "[<matplotlib.lines.Line2D at 0x7f9c9c5c13a0>]"
      ]
     },
     "execution_count": 180,
     "metadata": {},
     "output_type": "execute_result"
    },
    {
     "data": {
      "image/png": "[encoded data removed]",
      "text/plain": [
       "<Figure size 640x480 with 1 Axes>"
      ]
     },
     "metadata": {},
     "output_type": "display_data"
    }
   ],
   "source": [
    "plt.plot(predicted_in_flow[:48,-0])\n",
    "# plt.plot(predicted_in_flow[:,-1])\n",
    "# plt.plot(predicted_in_flow[:,-2])\n",
    "# plt.plot(predicted_in_flow[:,-3])"
   ]
  }
 ],
 "metadata": {
  "kernelspec": {
   "display_name": "Python 3 (ipykernel)",
   "language": "python",
   "name": "python3"
  }
 },
 "nbformat": 4,
 "nbformat_minor": 2
}
