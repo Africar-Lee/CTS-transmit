{
  "cells": [
    {
      "cell_type": "markdown",
      "metadata": {
        "id": "32hM-kIDJicV"
      },
      "source": [
        "# 导入模块及定义"
      ]
    },
    {
      "cell_type": "markdown",
      "metadata": {
        "id": "H593FNoRJicY"
      },
      "source": [
        "## 导入模块"
      ]
    },
    {
      "cell_type": "code",
      "execution_count": 1,
      "metadata": {
        "colab": {
          "base_uri": "https://localhost:8080/"
        },
        "id": "v0TwzLSDJicZ",
        "outputId": "58b40c42-9357-482b-a8ac-fe79e0191342"
      },
      "outputs": [
        {
          "output_type": "stream",
          "name": "stdout",
          "text": [
            "Requirement already satisfied: transbigdata in /usr/local/lib/python3.10/dist-packages (0.5.3)\n",
            "Requirement already satisfied: torch_geometric in /usr/local/lib/python3.10/dist-packages (2.5.3)\n",
            "Requirement already satisfied: numpy in /usr/local/lib/python3.10/dist-packages (from transbigdata) (1.25.2)\n",
            "Requirement already satisfied: pandas in /usr/local/lib/python3.10/dist-packages (from transbigdata) (2.0.3)\n",
            "Requirement already satisfied: shapely in /usr/local/lib/python3.10/dist-packages (from transbigdata) (2.0.4)\n",
            "Requirement already satisfied: geopandas>=0.10.2 in /usr/local/lib/python3.10/dist-packages (from transbigdata) (0.13.2)\n",
            "Requirement already satisfied: scipy in /usr/local/lib/python3.10/dist-packages (from transbigdata) (1.11.4)\n",
            "Requirement already satisfied: matplotlib in /usr/local/lib/python3.10/dist-packages (from transbigdata) (3.7.1)\n",
            "Requirement already satisfied: pykalman in /usr/local/lib/python3.10/dist-packages (from transbigdata) (0.9.7)\n",
            "Requirement already satisfied: osmnx in /usr/local/lib/python3.10/dist-packages (from transbigdata) (1.9.3)\n",
            "Requirement already satisfied: tqdm in /usr/local/lib/python3.10/dist-packages (from torch_geometric) (4.66.4)\n",
            "Requirement already satisfied: fsspec in /usr/local/lib/python3.10/dist-packages (from torch_geometric) (2023.6.0)\n",
            "Requirement already satisfied: jinja2 in /usr/local/lib/python3.10/dist-packages (from torch_geometric) (3.1.4)\n",
            "Requirement already satisfied: aiohttp in /usr/local/lib/python3.10/dist-packages (from torch_geometric) (3.9.5)\n",
            "Requirement already satisfied: requests in /usr/local/lib/python3.10/dist-packages (from torch_geometric) (2.31.0)\n",
            "Requirement already satisfied: pyparsing in /usr/local/lib/python3.10/dist-packages (from torch_geometric) (3.1.2)\n",
            "Requirement already satisfied: scikit-learn in /usr/local/lib/python3.10/dist-packages (from torch_geometric) (1.2.2)\n",
            "Requirement already satisfied: psutil>=5.8.0 in /usr/local/lib/python3.10/dist-packages (from torch_geometric) (5.9.5)\n",
            "Requirement already satisfied: fiona>=1.8.19 in /usr/local/lib/python3.10/dist-packages (from geopandas>=0.10.2->transbigdata) (1.9.6)\n",
            "Requirement already satisfied: packaging in /usr/local/lib/python3.10/dist-packages (from geopandas>=0.10.2->transbigdata) (24.1)\n",
            "Requirement already satisfied: pyproj>=3.0.1 in /usr/local/lib/python3.10/dist-packages (from geopandas>=0.10.2->transbigdata) (3.6.1)\n",
            "Requirement already satisfied: python-dateutil>=2.8.2 in /usr/local/lib/python3.10/dist-packages (from pandas->transbigdata) (2.8.2)\n",
            "Requirement already satisfied: pytz>=2020.1 in /usr/local/lib/python3.10/dist-packages (from pandas->transbigdata) (2023.4)\n",
            "Requirement already satisfied: tzdata>=2022.1 in /usr/local/lib/python3.10/dist-packages (from pandas->transbigdata) (2024.1)\n",
            "Requirement already satisfied: aiosignal>=1.1.2 in /usr/local/lib/python3.10/dist-packages (from aiohttp->torch_geometric) (1.3.1)\n",
            "Requirement already satisfied: attrs>=17.3.0 in /usr/local/lib/python3.10/dist-packages (from aiohttp->torch_geometric) (23.2.0)\n",
            "Requirement already satisfied: frozenlist>=1.1.1 in /usr/local/lib/python3.10/dist-packages (from aiohttp->torch_geometric) (1.4.1)\n",
            "Requirement already satisfied: multidict<7.0,>=4.5 in /usr/local/lib/python3.10/dist-packages (from aiohttp->torch_geometric) (6.0.5)\n",
            "Requirement already satisfied: yarl<2.0,>=1.0 in /usr/local/lib/python3.10/dist-packages (from aiohttp->torch_geometric) (1.9.4)\n",
            "Requirement already satisfied: async-timeout<5.0,>=4.0 in /usr/local/lib/python3.10/dist-packages (from aiohttp->torch_geometric) (4.0.3)\n",
            "Requirement already satisfied: MarkupSafe>=2.0 in /usr/local/lib/python3.10/dist-packages (from jinja2->torch_geometric) (2.1.5)\n",
            "Requirement already satisfied: contourpy>=1.0.1 in /usr/local/lib/python3.10/dist-packages (from matplotlib->transbigdata) (1.2.1)\n",
            "Requirement already satisfied: cycler>=0.10 in /usr/local/lib/python3.10/dist-packages (from matplotlib->transbigdata) (0.12.1)\n",
            "Requirement already satisfied: fonttools>=4.22.0 in /usr/local/lib/python3.10/dist-packages (from matplotlib->transbigdata) (4.53.0)\n",
            "Requirement already satisfied: kiwisolver>=1.0.1 in /usr/local/lib/python3.10/dist-packages (from matplotlib->transbigdata) (1.4.5)\n",
            "Requirement already satisfied: pillow>=6.2.0 in /usr/local/lib/python3.10/dist-packages (from matplotlib->transbigdata) (9.4.0)\n",
            "Requirement already satisfied: networkx>=2.5 in /usr/local/lib/python3.10/dist-packages (from osmnx->transbigdata) (3.3)\n",
            "Requirement already satisfied: charset-normalizer<4,>=2 in /usr/local/lib/python3.10/dist-packages (from requests->torch_geometric) (3.3.2)\n",
            "Requirement already satisfied: idna<4,>=2.5 in /usr/local/lib/python3.10/dist-packages (from requests->torch_geometric) (3.7)\n",
            "Requirement already satisfied: urllib3<3,>=1.21.1 in /usr/local/lib/python3.10/dist-packages (from requests->torch_geometric) (2.0.7)\n",
            "Requirement already satisfied: certifi>=2017.4.17 in /usr/local/lib/python3.10/dist-packages (from requests->torch_geometric) (2024.6.2)\n",
            "Requirement already satisfied: joblib>=1.1.1 in /usr/local/lib/python3.10/dist-packages (from scikit-learn->torch_geometric) (1.4.2)\n",
            "Requirement already satisfied: threadpoolctl>=2.0.0 in /usr/local/lib/python3.10/dist-packages (from scikit-learn->torch_geometric) (3.5.0)\n",
            "Requirement already satisfied: click~=8.0 in /usr/local/lib/python3.10/dist-packages (from fiona>=1.8.19->geopandas>=0.10.2->transbigdata) (8.1.7)\n",
            "Requirement already satisfied: click-plugins>=1.0 in /usr/local/lib/python3.10/dist-packages (from fiona>=1.8.19->geopandas>=0.10.2->transbigdata) (1.1.1)\n",
            "Requirement already satisfied: cligj>=0.5 in /usr/local/lib/python3.10/dist-packages (from fiona>=1.8.19->geopandas>=0.10.2->transbigdata) (0.7.2)\n",
            "Requirement already satisfied: six in /usr/local/lib/python3.10/dist-packages (from fiona>=1.8.19->geopandas>=0.10.2->transbigdata) (1.16.0)\n"
          ]
        }
      ],
      "source": [
        "!pip install transbigdata torch_geometric\n",
        "\n",
        "import os\n",
        "import argparse\n",
        "import math\n",
        "import random\n",
        "import tqdm\n",
        "import numpy as np\n",
        "import pandas as pd\n",
        "from sklearn import preprocessing\n",
        "\n",
        "import matplotlib.pyplot as plt\n",
        "import seaborn as sns\n",
        "import transbigdata as tbd\n",
        "\n",
        "import networkx as nx\n",
        "\n",
        "from typing import List\n",
        "\n",
        "import torch\n",
        "import torch.nn as nn\n",
        "import torch.optim as optim\n",
        "import torch.utils as utils\n",
        "\n",
        "from torch_geometric.data import Data"
      ]
    },
    {
      "cell_type": "markdown",
      "source": [
        "## utility"
      ],
      "metadata": {
        "id": "b4_L5z25KI-H"
      }
    },
    {
      "cell_type": "code",
      "source": [
        "import pandas as pd\n",
        "import numpy as np\n",
        "from typing import List\n",
        "import torch\n",
        "\n",
        "# 处理数据输入的cell\n",
        "\n",
        "def readDatas(rawDatas: List[pd.DataFrame], csvList: List[str]) -> None:\n",
        "    \"\"\"将列出的所有csv文件 内容 按列表顺序存入rawDatas中\"\"\"\n",
        "    for index in range(len(csvList)):\n",
        "        tmpDf = pd.read_csv(csvList[index])\n",
        "        rawDatas.append(tmpDf)\n",
        "    return None\n",
        "\n",
        "def  readDateList(dateList: List[str], csvList: List[str]) -> None:\n",
        "    \"\"\"将列出的所有csv文件所属 日期 按顺序存入dateList中\"\"\"\n",
        "    for index in range(len(csvList)):\n",
        "        tmpDate = csvList[index][-8:-4]\n",
        "        dateList.append(tmpDate)\n",
        "    return None\n",
        "\n",
        "def get_rem_sta_list(stop_for_adj: pd.DataFrame, csv_list: list[str]) -> list[str]:\n",
        "    tmp_df = pd.read_csv(csv_list[0])    # 获取列表中首个文件的数据\n",
        "\n",
        "    remain_staion_list = [] # 缺失的站点名列表\n",
        "    for station_name in list(stop_for_adj['站点名']):\n",
        "        if not station_name in list(tmp_df['站点名']):\n",
        "            remain_staion_list.append(station_name)\n",
        "\n",
        "    print('the length of remain_staion_list is ', len(remain_staion_list))\n",
        "\n",
        "    return remain_staion_list\n",
        "\n",
        "def get_rem_sta_info(origin_df: pd.DataFrame, rem_sta_list: list[str]) -> pd.DataFrame:\n",
        "    \"\"\" 填补单个csv文件中缺失站点的数据 \"\"\"\n",
        "    date_str = origin_df.loc[0, '日期'] # 日期与文件中其他所有数据保持一致\n",
        "    line_str = 'aaa' # 线路名不纳入训练，初始化为aaa\n",
        "    outflow = type(origin_df.loc[0, '进站量'])(0)\n",
        "    inflow = type(origin_df.loc[0, '进站量'])(0)\n",
        "    start_time_enum = list(origin_df['开始时间'].unique())\n",
        "    end_time_enum = list(origin_df['结束时间'].unique())\n",
        "    time_point_num = len(start_time_enum)\n",
        "\n",
        "    output_df = pd.DataFrame(columns=origin_df.columns)\n",
        "    for time_i in range(time_point_num):\n",
        "        for rem_sta_i in range(len(rem_sta_list)):\n",
        "            new_row = pd.DataFrame([{'日期':date_str,\n",
        "                                     '开始时间':start_time_enum[time_i],\n",
        "                                     '结束时间':end_time_enum[time_i],\n",
        "                                     '站点名':rem_sta_list[rem_sta_i],\n",
        "                                     '线路名':line_str,\n",
        "                                     '进站量':inflow,\n",
        "                                     '出站量':outflow\n",
        "                                     }])\n",
        "            output_df = pd.concat([output_df, new_row], ignore_index=True)\n",
        "    return output_df\n",
        "\n",
        "\n",
        "def get_station_for_adj(stop_for_adj: pd.DataFrame, csv_list: list[str]) -> pd.DataFrame:\n",
        "    \"\"\" 输入邻接矩阵中所有的站点名以及要读入的csv文件名列表， 创建station的dataframe \"\"\"\n",
        "    # 添加文件数据中缺失的站点数据，目前方案为全部赋值为0\n",
        "    remain_staion_list = get_rem_sta_list(stop_for_adj, csv_list) # 缺失的站点名列表\n",
        "\n",
        "    output_df_list = []\n",
        "    for csv_file in csv_list:\n",
        "        tmp_ori_df = pd.read_csv(csv_file) # 获取原始数据\n",
        "        output_df_list.append(tmp_ori_df)\n",
        "        tmp_rem_df = get_rem_sta_info(tmp_ori_df, remain_staion_list) # 填补缺失数据\n",
        "        output_df_list.append(tmp_rem_df)\n",
        "        print('tmp_rem_df.__len__ is ', len(tmp_rem_df))\n",
        "\n",
        "    output_df = pd.concat(output_df_list, axis=0, ignore_index=True)\n",
        "    print('output_df.__len__ is ', len(output_df))\n",
        "    return output_df\n",
        "\n",
        "class cstRawCsvData:\n",
        "    def __init__(self, stationCsvLists: List[str] = [], ODCsvLists: List[str] = []) -> None:\n",
        "        \"\"\"\n",
        "        初始化输入: csv文件列表，包括station的和OD的\n",
        "        而后将这些文件的内容读入相应的数据成员变量列表中，并将文件名中的日期读入日期成员变量列表中\n",
        "        \"\"\"\n",
        "\n",
        "        self.rawStationDatas: List[pd.DataFrame] = []\n",
        "        self.rawODDatas: List[pd.DataFrame] = []\n",
        "\n",
        "        self.stationDateList: List[str] = []\n",
        "        self.ODDateList: List[str] = []\n",
        "\n",
        "        if stationCsvLists != None and stationCsvLists !=[]:\n",
        "            readDatas(self.rawStationDatas, stationCsvLists)\n",
        "            readDateList(self.stationDateList, stationCsvLists)\n",
        "        else:\n",
        "            self.rawStationDatas = []\n",
        "\n",
        "        if ODCsvLists != None and ODCsvLists !=[]:\n",
        "            readDatas(self.rawODDatas, ODCsvLists)\n",
        "            readDateList(self.ODDateList, ODCsvLists)\n",
        "        else:\n",
        "            self.rawODDatas = []\n",
        "\n",
        "        return None\n",
        "\n",
        "    def getAllStationData(self) -> pd.DataFrame:\n",
        "        if not self.rawStationDatas:\n",
        "            print(\"empty station data, please check it\")\n",
        "            return None\n",
        "\n",
        "        outputDf = pd.DataFrame()\n",
        "        for df in self.rawStationDatas:\n",
        "            outputDf = pd.concat([outputDf, df])\n",
        "        return outputDf\n",
        "\n",
        "    def getAllODData(self) -> pd.DataFrame:\n",
        "        if not self.rawODDatas:\n",
        "            print(\"empty OD data, please check it\")\n",
        "            return None\n",
        "        outputDf = pd.DataFrame()\n",
        "        for df in self.rawODDatas:\n",
        "            outputDf = pd.concat([outputDf, df])\n",
        "        return outputDf\n",
        "\n",
        "    def getSpecDateDf(self, date: str, sta_or_od = 1) -> pd.DataFrame:\n",
        "        \"\"\"获取指定日期的数据, 以dataframe类型给出\"\"\"\n",
        "        i = 0\n",
        "        if (sta_or_od == 1):\n",
        "            # 默认获取某一天的station数据\n",
        "            for i in range(len(self.stationDateList)):\n",
        "                if date == self.stationDateList[i]:\n",
        "                    break\n",
        "                if i == (len(self.stationDateList) - 1):\n",
        "                    print(\"no such date info here, please check input csv list\")\n",
        "                    return None\n",
        "            return self.rawStationDatas[i]\n",
        "        else:\n",
        "            # 获取某一天的OD数据\n",
        "            for i in range(len(self.ODDateList)):\n",
        "                if date == self.ODDateList[i]:\n",
        "                    break\n",
        "                if i == (len(self.ODDateList) - 1):\n",
        "                    print(\"no such date info here, please check input csv list\")\n",
        "                    return None\n",
        "            return self.rawODDatas[i]\n",
        "\n",
        "# 给出对dataframe的一些基本操作接口\n",
        "\n",
        "def getDfBySpecPeriod(startTime: str, endTime: str, originalDf: pd.DataFrame) -> pd.DataFrame:\n",
        "    \"\"\"根据所给的时间段，获取dataframe中时间片位于时间段内的条目，并组成新的dataframe作为输出\"\"\"\n",
        "    startT, endT = pd.to_datetime(startTime), pd.to_datetime(endTime)\n",
        "    outputDf = pd.DataFrame(columns=originalDf.columns)\n",
        "\n",
        "    for index in range(len(originalDf)):\n",
        "        tmpStart= pd.to_datetime(originalDf.loc[:, '开始时间'].iloc[index])\n",
        "        tmpEnd = pd.to_datetime(originalDf.loc[:, '结束时间'].iloc[index])\n",
        "        if tmpStart <= startT and tmpEnd >= endT:\n",
        "            outputDf.loc[len(outputDf)] = originalDf.iloc[index]\n",
        "            outputDf.reset_index()\n",
        "\n",
        "    return outputDf\n",
        "\n",
        "def getDfByStationNameList(stationNameList: List[str], originalDf: pd.DataFrame) -> pd.DataFrame:\n",
        "    \"\"\"根据所给的站名列表，获取originDf中相应站名的条目，组成新的dataframe输出\"\"\"\n",
        "    outputDf = pd.DataFrame(columns=originalDf.columns)\n",
        "\n",
        "    for index in range(len(originalDf)):\n",
        "        tmpName = str(originalDf.loc[:, '站点名'].iloc[index])\n",
        "        if tmpName in stationNameList:\n",
        "            outputDf.loc[len(outputDf)] = originalDf.iloc[index]\n",
        "            outputDf.reset_index()\n",
        "\n",
        "    return outputDf\n"
      ],
      "metadata": {
        "id": "UVp13d2UKGY8"
      },
      "execution_count": 2,
      "outputs": []
    },
    {
      "cell_type": "markdown",
      "metadata": {
        "id": "jnnlatbsJicb"
      },
      "source": [
        "## 声明和定义模型各层"
      ]
    },
    {
      "cell_type": "code",
      "execution_count": 3,
      "metadata": {
        "id": "KoFW1NY7Jicc"
      },
      "outputs": [],
      "source": [
        "import torch.nn.functional as F\n",
        "import torch.nn.init as init\n",
        "\n",
        "from torch.nn import Linear, Parameter\n",
        "from torch_geometric.nn import MessagePassing\n",
        "from torch_geometric.utils import add_self_loops, degree\n",
        "\n",
        "import torch\n",
        "import torch.nn as nn\n",
        "import torch.optim as optim\n",
        "from torch_geometric.nn import GCNConv\n",
        "import torch_geometric.nn as pyg_nn\n",
        "import torch_geometric.utils as pyg_utils\n",
        "class TemporalConvLayer(nn.Module):\n",
        "    def __init__(self, in_channels, out_channels, kernel_size):\n",
        "        super(TemporalConvLayer, self).__init__()\n",
        "        self.conv = nn.Conv2d(in_channels, out_channels, kernel_size=kernel_size, padding=(kernel_size[0] // 2, 0))\n",
        "\n",
        "    def forward(self, x):\n",
        "        x = x.permute(0, 3, 1, 2)  # (batch, N, T, F) -> (batch, F, T, N)\n",
        "        x = self.conv(x)\n",
        "        x = x.permute(0, 2, 3, 1)  # (batch, F, T, N) -> (batch, N, T, F)\n",
        "        return x\n",
        "\n",
        "class SpatialConvLayer(nn.Module):\n",
        "    def __init__(self, in_channels, out_channels):\n",
        "        super(SpatialConvLayer, self).__init__()\n",
        "        self.gcn = GCNConv(in_channels, out_channels)\n",
        "\n",
        "    def forward(self, x, edge_index):\n",
        "        # x: (batch, N, T, F)\n",
        "        # edge_index: (2, E)\n",
        "        batch_size, num_nodes, time_steps, num_features = x.shape\n",
        "        x = x.permute(0, 2, 1, 3)  # (batch, N, T, F) -> (batch, T, N, F)\n",
        "        x = x.reshape(-1, num_nodes, num_features)  # (batch * T, N, F)\n",
        "\n",
        "        # Flatten edge_index\n",
        "        edge_index = edge_index.repeat(time_steps * batch_size, 1)  # Repeat edge_index for each time step and batch\n",
        "        edge_index = edge_index.view(2, -1)  # (2, E * batch_size * time_steps)\n",
        "\n",
        "        x = x.reshape(-1, num_features)  # (batch * T * N, F)\n",
        "        x = self.gcn(x, edge_index)\n",
        "        x = x.view(batch_size, time_steps, num_nodes, -1)  # (batch, T, N, F)\n",
        "        x = x.permute(0, 2, 1, 3)  # (batch, T, N, F) -> (batch, N, T, F)\n",
        "        return x"
      ]
    },
    {
      "cell_type": "code",
      "source": [],
      "metadata": {
        "id": "lrRhiyoHPAkI"
      },
      "execution_count": 3,
      "outputs": []
    },
    {
      "cell_type": "markdown",
      "metadata": {
        "id": "TFR9Qf3cJicd"
      },
      "source": [
        "## 申明和定义模型"
      ]
    },
    {
      "cell_type": "code",
      "execution_count": 4,
      "metadata": {
        "id": "gAMT3RY1Jicd"
      },
      "outputs": [],
      "source": [
        "import torch.nn.functional as F\n",
        "from torch.nn import Module\n",
        "import torch.nn as nn\n",
        "import torch\n",
        "from torch import Tensor\n",
        "# class STGCN(nn.Module):\n",
        "#     def __init__(self, num_nodes, in_channels, time_steps, temporal_channels, spatial_channels, kernel_size,out_channels):\n",
        "#         super(STGCN, self).__init__()\n",
        "#         self.num_nodes = num_nodes\n",
        "#         self.time_steps = time_steps\n",
        "#         self.temporal1 = TemporalConvLayer(in_channels, temporal_channels, kernel_size)\n",
        "#         self.spatial = SpatialConvLayer(temporal_channels, spatial_channels)\n",
        "#         self.temporal2 = TemporalConvLayer(spatial_channels, in_channels, kernel_size)\n",
        "#         self.fc = torch.nn.Linear(num_nodes * in_channels * time_steps, num_nodes * out_channels * time_steps)\n",
        "#         self.relu = torch.nn.ReLU()\n",
        "\n",
        "#     def forward(self, x, edge_index):\n",
        "#         x = self.temporal1(x)\n",
        "#         x = self.spatial(x, edge_index)\n",
        "#         x = self.temporal2(x)\n",
        "#         x = x.reshape(x.shape[0], -1)  # Flatten\n",
        "#         x = self.fc(x)\n",
        "#         x = self.relu(x)\n",
        "#         x = x.reshape(x.shape[0], self.num_nodes, self.time_steps, -1)  # Reshape back to (batch, N, T, F)\n",
        "#         return x\n",
        "# Spatio-Temporal Graph Convolutional Network\n",
        "class STGCN(nn.Module):\n",
        "    def __init__(self, num_nodes, in_channels, time_steps, temporal_channels, spatial_channels, kernel_size, out_channels):\n",
        "        super(STGCN, self).__init__()\n",
        "        self.num_nodes = num_nodes\n",
        "        self.time_steps = time_steps\n",
        "        self.temporal1 = TemporalConvLayer(in_channels, temporal_channels, kernel_size)\n",
        "        self.spatial = SpatialConvLayer(temporal_channels, spatial_channels)\n",
        "        self.temporal2 = TemporalConvLayer(spatial_channels, in_channels, kernel_size)\n",
        "        self.fc = torch.nn.Linear(num_nodes * in_channels * time_steps, num_nodes * out_channels * time_steps)\n",
        "        self.relu = torch.nn.ReLU()\n",
        "\n",
        "    def forward(self, x, edge_index):\n",
        "        x = self.temporal1(x)\n",
        "        x = self.relu(x)\n",
        "        x = self.spatial(x, edge_index)\n",
        "        x = self.relu(x)\n",
        "        x = self.temporal2(x)\n",
        "        x = self.relu(x)\n",
        "        x = x.reshape(x.shape[0], -1)  # Flatten\n",
        "        x = self.fc(x)\n",
        "        x = x.reshape(x.shape[0], self.num_nodes, self.time_steps, -1)  # Reshape back to (batch, N, T, F\n",
        "        return x"
      ]
    },
    {
      "cell_type": "code",
      "source": [
        "# total\n",
        "# Gated Event Feature Extractor\n",
        "class GatedEventFeatureExtractor(nn.Module):\n",
        "    def __init__(self, input_dim, hidden_dim):\n",
        "        super(GatedEventFeatureExtractor, self).__init__()\n",
        "        self.fc = nn.Linear(input_dim, hidden_dim)\n",
        "        self.gate = nn.Linear(input_dim, hidden_dim)\n",
        "\n",
        "    def forward(self, x):\n",
        "        x_feature = F.relu(self.fc(x))\n",
        "        x_gate = torch.sigmoid(self.gate(x))\n",
        "        return x_feature * x_gate\n",
        "\n",
        "class CombinedModel(nn.Module):\n",
        "    def __init__(self, num_nodes, time_input_dim, event_input_dim, hidden_dim, output_dim, time_steps, temporal_channels, spatial_channels, kernel_size):\n",
        "        super(CombinedModel, self).__init__()\n",
        "        self.time_extractor = STGCN(num_nodes, time_input_dim, time_steps, temporal_channels, spatial_channels, kernel_size, hidden_dim)\n",
        "        self.event_extractor = GatedEventFeatureExtractor(event_input_dim, hidden_dim)\n",
        "        self.fc = nn.Linear(hidden_dim * 2, output_dim)\n",
        "\n",
        "    def forward(self, time_features, event_features, edge_index):\n",
        "        time_out = self.time_extractor(time_features, edge_index)\n",
        "        event_out = self.event_extractor(event_features)\n",
        "        combined = torch.cat([time_out, event_out], dim=-1)\n",
        "        output = self.fc(combined)\n",
        "        return output"
      ],
      "metadata": {
        "id": "7xVjVV8damJ1"
      },
      "execution_count": 5,
      "outputs": []
    },
    {
      "cell_type": "markdown",
      "metadata": {
        "id": "_0fA1emsJice"
      },
      "source": [
        "# 数据获取及预处理"
      ]
    },
    {
      "cell_type": "markdown",
      "metadata": {
        "id": "DAm0D6SsJice"
      },
      "source": [
        "## 抓取实际站点数据，筛选处理之，并生成邻接矩阵"
      ]
    },
    {
      "cell_type": "code",
      "execution_count": 6,
      "metadata": {
        "colab": {
          "base_uri": "https://localhost:8080/"
        },
        "id": "GYL0kuRgJice",
        "outputId": "8092e88a-21ff-4a87-da21-1a690aa2c27c"
      },
      "outputs": [
        {
          "output_type": "stream",
          "name": "stdout",
          "text": [
            "Obtaining city id: 北京success\n",
            "Get bus data: 1号线\n",
            "地铁1号线八通线(环球度假区-古城) success\n",
            "地铁1号线八通线(古城-环球度假区) success\n",
            "地铁1号线支线(八角游乐园-青龙湖东) success\n",
            "地铁1号线支线(青龙湖东-八角游乐园) success\n",
            "Get bus data: 2号线\n",
            "地铁2号线外环(西直门-西直门) success\n",
            "地铁2号线内环(积水潭-积水潭) success\n",
            "地铁6号线二期(潞城-东小营南) success\n",
            "地铁6号线二期(东小营南-潞城) success\n",
            "Get bus data: 5号线\n",
            "地铁5号线(宋家庄-天通苑北) success\n",
            "地铁5号线(天通苑北-宋家庄) success\n",
            "Get bus data: 6号线\n",
            "地铁6号线(金安桥-潞城) success\n",
            "地铁6号线(潞城-金安桥) success\n",
            "Get bus data: 7号线\n",
            "地铁7号线(北京西站-环球度假区) success\n",
            "地铁7号线(环球度假区-北京西站) success\n",
            "Get bus data: 8号线\n",
            "地铁8号线(朱辛庄-瀛海) success\n",
            "地铁8号线(瀛海-朱辛庄) success\n",
            "Get bus data: 9&房山线\n",
            "地铁9号线(国家图书馆-郭公庄) success\n",
            "地铁9号线(郭公庄-国家图书馆) success\n",
            "Get bus data: 房山线\n",
            "地铁房山线(东管头南-阎村东) success\n",
            "地铁房山线(阎村东-东管头南) success\n",
            "大兴机场大巴房山线(房山区交通局-大兴机场) success\n",
            "大兴机场大巴房山线(大兴机场-房山区交通局) success\n",
            "Get bus data: 10号线\n",
            "地铁10号线外环(车道沟-车道沟) success\n",
            "地铁10号线内环(巴沟-巴沟) success\n",
            "Get bus data: 13号线\n",
            "地铁13号线(东直门-西直门) success\n",
            "地铁13号线(西直门-东直门) success\n",
            "地铁13A号线(车公庄-天通苑东) success\n",
            "地铁13A号线(天通苑东-车公庄) success\n",
            "Get bus data: 15号线\n",
            "地铁15号线(清华东路西口-俸伯) success\n",
            "地铁15号线(俸伯-清华东路西口) success\n",
            "Get bus data: 昌平线\n",
            "地铁昌平线(西土城-昌平西山口) success\n",
            "地铁昌平线(昌平西山口-西土城) success\n",
            "首都机场大巴昌平线(昌平北站-首都机场T3航站楼) success\n",
            "首都机场大巴昌平线(首都机场T3航站楼-昌平北站) success\n",
            "Get bus data: 首都机场线\n",
            "首都机场线(北新桥-2号航站楼) success\n",
            "大兴机场线(草桥-大兴机场) success\n",
            "大兴机场线(大兴机场-草桥) success\n",
            "大兴机场大巴首都机场线(首都机场-大兴机场) success\n"
          ]
        },
        {
          "output_type": "stream",
          "name": "stderr",
          "text": [
            "/usr/local/lib/python3.10/dist-packages/transbigdata/crawler.py:284: FutureWarning: You are adding a column named 'geometry' to a GeoDataFrame constructed without an active geometry column. Currently, this automatically sets the active geometry column to 'geometry' but in the future that will no longer happen. Instead, either provide geometry to the GeoDataFrame constructor (GeoDataFrame(... geometry=GeoSeries()) or use `set_geometry('geometry')` to explicitly set the active geometry column.\n",
            "  data['geometry'] = lines\n"
          ]
        }
      ],
      "source": [
        "# station数据预处理函数\n",
        "def station2staion_no_line(station):\n",
        "    station_no_line = pd.DataFrame()\n",
        "    for i in range(len(station['站点名'].unique())):\n",
        "        spec_time_place_station = station[station['站点名'] == station['站点名'].unique()[i]]\n",
        "        # spec_time_place_station = spec_time_place_station[['开始时间','线路名','站点名','进站量','出站量']]\n",
        "        spec_time_place_station = spec_time_place_station.fillna(0)\n",
        "        spec_time_place_station = spec_time_place_station.groupby(['日期','开始时间','结束时间']).agg({\n",
        "            '站点名': 'first',  # 假设每个时间段内站点名是相同的，取第一个即可\n",
        "            '进站量': 'sum',\n",
        "            '出站量': 'sum'\n",
        "        })\n",
        "        spec_time_place_station = spec_time_place_station.reset_index()\n",
        "        station_no_line = pd.concat([station_no_line, spec_time_place_station]).reset_index(drop=True)\n",
        "    return station_no_line\n",
        "\n",
        "\n",
        "# prepare data\n",
        "line,stop = tbd.getbusdata('北京',['1号线', '2号线', '5号线', '6号线', '7号线', '8号线', '9&房山线','房山线', '10号线',\n",
        "       '13号线', '15号线', '昌平线', '首都机场线'])\n",
        "line = line[line['line']!='大兴机场大巴首都机场线'].reset_index(drop=True)\n",
        "stop = stop[stop['line']!='大兴机场大巴首都机场线'].reset_index(drop=True)\n",
        "line = line[line['line']!='首都机场大巴昌平线'].reset_index(drop=True)\n",
        "stop = stop[stop['line']!='首都机场大巴昌平线'].reset_index(drop=True)\n",
        "stop.loc[stop['stationnames'] == '清河站', 'stationnames'] = '清河'\n",
        "\n",
        "line_data = {'线路名': [], '站点名': [], '顺序': []}\n",
        "for i in range(len(stop)):\n",
        "    线路名 = line_data['线路名']\n",
        "    线路名.append(stop.loc[i, 'line'])\n",
        "    站点名 = line_data['站点名']\n",
        "    站点名.append(stop.loc[i, 'stationnames'])\n",
        "    顺序 = line_data['顺序']\n",
        "    顺序.append(stop.loc[i, 'id'])\n",
        "    line_data.update({'线路名':线路名, '站点名':站点名, '顺序':顺序})\n",
        "# 示例数据\n",
        "# line_data = {\n",
        "#     '线路名': ['1号线', '1号线', '1号线', '2号线', '2号线'],\n",
        "#     '站点名': ['站点A', '站点B', '站点C', '站点B', '站点D'],\n",
        "#     '顺序': [1, 2, 3, 1, 2]\n",
        "# }\n",
        "\n",
        "\n",
        "stop_data = {'站点名':list(stop['stationnames'].unique())}\n",
        "# 示例数据\n",
        "# stop_data = {\n",
        "#     '站点名': ['站点A', '站点B', '站点C', '站点D'],\n",
        "#     '其他信息': ['infoA', 'infoB', 'infoC', 'infoD']\n",
        "# }\n",
        "\n",
        "line_for_adj = pd.DataFrame(line_data)\n",
        "stop_for_adj = pd.DataFrame(stop_data)\n",
        "\n",
        "# 构建地铁网络图\n",
        "G = nx.Graph()\n",
        "\n",
        "# 添加节点\n",
        "for station_for_adj in stop_for_adj['站点名']:\n",
        "    G.add_node(station_for_adj)\n",
        "\n",
        "# 添加边（根据站点顺序）\n",
        "for line_name, group in line_for_adj.groupby('线路名'):\n",
        "    sorted_stations = group.sort_values('顺序')['站点名'].tolist()\n",
        "    for i in range(len(sorted_stations) - 1):\n",
        "        G.add_edge(sorted_stations[i], sorted_stations[i + 1])\n",
        "\n",
        "# 提取邻接矩阵\n",
        "adj_matrix = nx.adjacency_matrix(G).todense()\n",
        "# np.savez('adj_matrix.npz', adj_matrix=adj_matrix)\n",
        "# adj_matrix = np.load('adj_matrix.npz')[\"adj_matrix\"]"
      ]
    },
    {
      "cell_type": "code",
      "execution_count": 6,
      "metadata": {
        "id": "PC_KDiDqJicf"
      },
      "outputs": [],
      "source": []
    },
    {
      "cell_type": "code",
      "execution_count": 6,
      "metadata": {
        "id": "8PxV0zGsJicg"
      },
      "outputs": [],
      "source": []
    },
    {
      "cell_type": "markdown",
      "metadata": {
        "id": "4DyT9_HjJicg"
      },
      "source": [
        "## 读取csv文件数据"
      ]
    },
    {
      "cell_type": "code",
      "execution_count": 7,
      "metadata": {
        "colab": {
          "base_uri": "https://localhost:8080/"
        },
        "id": "bDQ3Vhx4Jicg",
        "outputId": "8ee3997f-e452-4fab-8dc0-b3ee08f29ba6"
      },
      "outputs": [
        {
          "output_type": "stream",
          "name": "stdout",
          "text": [
            "the length of remain_staion_list is  135\n",
            "tmp_rem_df.__len__ is  6480\n",
            "tmp_rem_df.__len__ is  6480\n",
            "tmp_rem_df.__len__ is  6480\n",
            "tmp_rem_df.__len__ is  6480\n",
            "tmp_rem_df.__len__ is  6480\n",
            "tmp_rem_df.__len__ is  6480\n",
            "tmp_rem_df.__len__ is  6480\n",
            "tmp_rem_df.__len__ is  6480\n",
            "tmp_rem_df.__len__ is  6480\n",
            "output_df.__len__ is  137376\n"
          ]
        }
      ],
      "source": [
        "# 读取csv\n",
        "path = os.getcwd() + '/'\n",
        "station_csv_file = ['station_20230519.csv',\n",
        "                    'station_20230520.csv',\n",
        "                    'station_20230521.csv',\n",
        "                    'station_20230522.csv',\n",
        "                    'station_20230523.csv',\n",
        "                    'station_20230524.csv',\n",
        "                    'station_20230525.csv',\n",
        "                    'station_20230526.csv',\n",
        "                    'station_20230527.csv']\n",
        "station_input_csv_select = [0, 1, 2, 3, 4, 5, 6, 7, 8]\n",
        "station_csv_sel_list = [path + station_csv_file[i] for i in station_input_csv_select]\n",
        "# stationList = utility.cstRawCsvData([path + station_csv_file[i] for i in station_input_csv_select])\n",
        "station = get_station_for_adj(stop_for_adj, station_csv_sel_list)\n",
        "station = station2staion_no_line(station) # 合并分布在不同线路上的同一站点数据"
      ]
    },
    {
      "cell_type": "markdown",
      "metadata": {
        "id": "WaZShlAnJicg"
      },
      "source": [
        "## 数据预处理"
      ]
    },
    {
      "cell_type": "code",
      "execution_count": 8,
      "metadata": {
        "id": "VY6tdpzuJich"
      },
      "outputs": [],
      "source": [
        "# 数据预加载\n",
        "# from datetime import datetime\n",
        "\n",
        "# sta_info_for_adj = pd.DataFrame(columns=['station_name', 'abs_date', 'time_point', 'day_of_week', 'is_event', 'in_flow', 'out_flow'])\n",
        "# for i in range(len(station)):\n",
        "#     station_name = station.loc[i, '站点名']\n",
        "#     precise_time = datetime.strptime(station.loc[i, '开始时间'], '%Y/%m/%d %H:%M:%S')\n",
        "\n",
        "#     time_diff = precise_time - datetime.strptime('2023/5/19 00:00:00', '%Y/%m/%d %H:%M:%S')\n",
        "#     abs_date = time_diff.days + 1 # 从1开始编号，五月19是第一天\n",
        "\n",
        "#     time_point = (precise_time.hour * 60 + precise_time.minute) / 30\n",
        "\n",
        "#     day_of_week = precise_time.weekday() # Monday == 0 ... Sunday == 6\n",
        "\n",
        "#     event_condition = ((precise_time.day == 26 or precise_time.day == 27) and precise_time.month == 5) or ((precise_time.day == 25) and precise_time.month == 8)\n",
        "#     is_event = 1.0 if event_condition else 0.0\n",
        "\n",
        "#     in_flow = float(station.loc[i, '进站量'])\n",
        "#     out_flow = float(station.loc[i, '出站量'])\n",
        "\n",
        "#     sta_info_for_adj.loc[i] = [station_name, abs_date, time_point, day_of_week, is_event, in_flow, out_flow]\n",
        "\n",
        "import pandas as pd\n",
        "from datetime import datetime\n",
        "\n",
        "# 假设 station 是你的输入 DataFrame\n",
        "# station = pd.read_csv('your_data.csv')\n",
        "\n",
        "# 定义基准时间\n",
        "base_time = datetime.strptime('2023/5/19 00:00:00', '%Y/%m/%d %H:%M:%S')\n",
        "\n",
        "# 解析时间\n",
        "station['precise_time'] = pd.to_datetime(station['开始时间'], format='%Y/%m/%d %H:%M:%S')\n",
        "\n",
        "# 计算时间差\n",
        "station['time_diff'] = (station['precise_time'] - base_time).dt.total_seconds()\n",
        "\n",
        "# 计算绝对日期\n",
        "station['abs_date'] = (station['precise_time'] - base_time).dt.days + 1\n",
        "\n",
        "# 计算一天内的时间点\n",
        "station['time_point'] = (station['precise_time'].dt.hour * 60 + station['precise_time'].dt.minute) / 30\n",
        "\n",
        "# 获取星期几\n",
        "station['day_of_week'] = station['precise_time'].dt.weekday\n",
        "station['is_monday'] = station['day_of_week'].apply(lambda x: 1 if x == 1 else 0)\n",
        "station['is_tuesday'] = station['day_of_week'].apply(lambda x: 1 if x == 2 else 0)\n",
        "station['is_wednsday'] = station['day_of_week'].apply(lambda x: 1 if x == 3 else 0)\n",
        "station['is_thursday'] = station['day_of_week'].apply(lambda x: 1 if x == 4 else 0)\n",
        "station['is_friday'] = station['day_of_week'].apply(lambda x: 1 if x == 5 else 0)\n",
        "station['is_saturday'] = station['day_of_week'].apply(lambda x: 1 if x == 6 else 0)\n",
        "station['is_sunday'] = station['day_of_week'].apply(lambda x: 1 if x == 7 else 0)\n",
        "# 判断是否为事件日\n",
        "station['is_event'] = ((station['precise_time'].dt.day.isin([26, 27]) & (station['precise_time'].dt.month == 5)) |\n",
        "                       ((station['precise_time'].dt.day == 25) & (station['precise_time'].dt.month == 8))).astype(float)\n",
        "\n",
        "# 提取进站量和出站量\n",
        "station['in_flow'] = station['进站量'].astype(float)\n",
        "station['out_flow'] = station['出站量'].astype(float)\n",
        "\n",
        "# 选择需要的列\n",
        "sta_info_for_adj = station[['站点名', 'abs_date', 'time_point', 'is_event',\n",
        "                            'is_monday','is_tuesday','is_wednsday','is_thursday','is_friday','is_saturday','is_sunday',\n",
        "                             'in_flow', 'out_flow']].copy()\n",
        "sta_info_for_adj.columns = ['station_name', 'abs_date', 'time_point', 'is_event',\n",
        "                            'is_monday','is_tuesday','is_wednsday','is_thursday','is_friday','is_saturday','is_sunday',\n",
        "                             'in_flow', 'out_flow']\n"
      ]
    },
    {
      "cell_type": "code",
      "execution_count": 33,
      "metadata": {
        "id": "oAIrUsMKJich"
      },
      "outputs": [],
      "source": [
        "test_set = pd.DataFrame()\n",
        "test_set = pd.concat([test_set,sta_info_for_adj[sta_info_for_adj['abs_date']==3].reset_index(drop=True)])\n",
        "test_set = pd.concat([test_set,sta_info_for_adj[sta_info_for_adj['abs_date']==6].reset_index(drop=True)])\n",
        "test_set = pd.concat([test_set,sta_info_for_adj[sta_info_for_adj['abs_date']==7].reset_index(drop=True)])\n",
        "test_set = pd.concat([test_set,sta_info_for_adj[sta_info_for_adj['abs_date']==9].reset_index(drop=True)])\n",
        "test_set['is_event']=1.0"
      ]
    },
    {
      "cell_type": "markdown",
      "metadata": {
        "id": "CAlCZiQJJici"
      },
      "source": [
        "## 设置站点掩码"
      ]
    },
    {
      "cell_type": "code",
      "execution_count": 11,
      "metadata": {
        "colab": {
          "base_uri": "https://localhost:8080/"
        },
        "id": "pjAyIadiJici",
        "outputId": "a0c67649-5b8e-4cde-dc73-da3a38386807"
      },
      "outputs": [
        {
          "output_type": "stream",
          "name": "stdout",
          "text": [
            "the length of remain_staion_list is  135\n"
          ]
        },
        {
          "output_type": "execute_result",
          "data": {
            "text/plain": [
              "tensor([ True, False, False, False, False,  True, False,  True,  True, False,\n",
              "        False,  True, False,  True,  True, False,  True, False,  True,  True,\n",
              "         True,  True, False,  True,  True,  True, False, False,  True,  True,\n",
              "         True,  True,  True, False, False, False, False, False, False, False,\n",
              "        False, False, False, False,  True,  True, False, False, False,  True,\n",
              "         True,  True,  True, False,  True,  True,  True,  True,  True, False,\n",
              "         True, False, False,  True,  True, False, False, False,  True, False,\n",
              "         True,  True,  True,  True, False,  True,  True,  True,  True, False,\n",
              "         True,  True, False, False, False, False,  True, False, False, False,\n",
              "        False,  True, False, False,  True,  True,  True, False, False,  True,\n",
              "         True, False,  True,  True, False, False, False,  True,  True, False,\n",
              "         True,  True,  True, False,  True,  True, False,  True,  True,  True,\n",
              "         True,  True, False, False,  True, False, False, False,  True, False,\n",
              "         True, False, False,  True, False, False, False,  True, False, False,\n",
              "        False,  True,  True, False,  True,  True,  True, False,  True,  True,\n",
              "        False,  True,  True, False,  True,  True,  True,  True,  True, False,\n",
              "        False, False,  True,  True,  True, False, False,  True,  True, False,\n",
              "         True, False, False,  True,  True, False, False, False, False,  True,\n",
              "         True,  True, False,  True,  True, False,  True,  True,  True,  True,\n",
              "         True, False,  True, False, False, False, False, False,  True,  True,\n",
              "        False, False,  True, False,  True, False,  True,  True,  True, False,\n",
              "         True,  True,  True, False, False,  True,  True,  True,  True,  True,\n",
              "        False, False, False,  True,  True,  True, False, False,  True, False,\n",
              "         True, False, False, False,  True,  True, False,  True, False,  True,\n",
              "         True, False, False,  True, False, False,  True, False, False, False,\n",
              "        False, False, False,  True,  True, False, False,  True,  True,  True,\n",
              "         True, False,  True, False,  True,  True, False, False,  True,  True,\n",
              "        False,  True, False,  True,  True, False,  True,  True,  True, False,\n",
              "         True,  True, False, False, False])"
            ]
          },
          "metadata": {},
          "execution_count": 11
        }
      ],
      "source": [
        "def get_station_mask(stop_for_adj: pd.DataFrame, csv_list: list[str]) -> torch.tensor:\n",
        "    output_mask = torch.ones(len(stop_for_adj)).tolist()\n",
        "    categories_list = list(stop_for_adj['站点名'])\n",
        "    rem_stop_list = get_rem_sta_list(stop_for_adj, csv_list)\n",
        "    for stop_i in range(len(categories_list)):\n",
        "        if categories_list[stop_i] in rem_stop_list:\n",
        "            output_mask[stop_i] = False\n",
        "\n",
        "    for i in range(len(output_mask)):\n",
        "        if output_mask[i]:\n",
        "            output_mask[i] = True\n",
        "\n",
        "    return torch.tensor(output_mask)\n",
        "\n",
        "station_mask = get_station_mask(stop_for_adj, station_csv_sel_list)\n",
        "station_mask"
      ]
    },
    {
      "cell_type": "code",
      "source": [],
      "metadata": {
        "id": "eyRxUO15SMgB"
      },
      "execution_count": 11,
      "outputs": []
    },
    {
      "cell_type": "markdown",
      "metadata": {
        "id": "eoiItEKgJicj"
      },
      "source": [
        "## 预处理数据放入input_data中"
      ]
    },
    {
      "cell_type": "code",
      "execution_count": 35,
      "metadata": {
        "id": "Eg7Qc2jcJicj"
      },
      "outputs": [],
      "source": [
        "def norm_min_max(input_array: np.array, min_array: np.array, max_array: np.array) -> np.array:\n",
        "    return (input_array - min_array) / (max_array - min_array)\n",
        "\n",
        "def abnorm_min_max(input_array: np.array, min_array: np.array, max_array: np.array) -> np.array:\n",
        "    return input_array * (max_array - min_array) + min_array\n",
        "\n",
        "from sklearn.preprocessing import StandardScaler\n",
        "\n",
        "categories_list = list(stop_for_adj['站点名'])\n",
        "ori_x = []\n",
        "ori_y = []\n",
        "# scaler = StandardScaler()\n",
        "norm_x = []\n",
        "norm_y = []\n",
        "sta_info_for_adj = sta_info_for_adj[sta_info_for_adj['time_point'].isin([i for i in range(12,48)])]\n",
        "for i in sta_info_for_adj.groupby([\"abs_date\",\"time_point\"]):\n",
        "    temp = i[1]\n",
        "    temp['station_name'] = pd.Categorical(temp['station_name'], categories=categories_list, ordered=True)\n",
        "    temp = temp.sort_values(by=['station_name']).reset_index(drop=True)#特定日期特定时间的所有站点已知数据\n",
        "    features = temp[['is_event','is_monday','is_tuesday','is_wednsday','is_thursday','is_friday','is_saturday','is_sunday']].values\n",
        "    labels = temp[['in_flow','out_flow']].values\n",
        "    ori_x.append(features)\n",
        "    ori_y.append(labels)\n",
        "    # features = scaler.fit_transform(features)\n",
        "    # labels = scaler.fit_transform(labels)\n",
        "    # norm_x.append(features)\n",
        "    # norm_y.append(labels)\n",
        "\n",
        "# total_x = np.vstack(ori_x)\n",
        "# total_y = np.vstack(ori_y)\n",
        "\n",
        "# min_x, max_x = total_x.min(axis=0), total_x.max(axis=0)\n",
        "# for i in range(len(max_x)):\n",
        "#     if max_x[i] == min_x[i]:\n",
        "#         max_x[i] = 1.0\n",
        "# min_y, max_y = total_y.min(axis=0), total_y.max(axis=0)\n",
        "\n",
        "# for i in range(len(ori_x)):\n",
        "#     tmp_feature = norm_min_max(ori_x[i], min_x, max_x)\n",
        "#     tmp_labels = norm_min_max(ori_y[i], min_y, max_y)\n",
        "#     norm_x.append(tmp_feature)\n",
        "#     norm_y.append(tmp_labels)\n",
        "# norm_x = np.array(norm_x)\n",
        "# norm_y = np.array(norm_y)\n",
        "ori_x_test = []\n",
        "ori_y_test = []\n",
        "test_set = test_set[test_set['time_point'].isin([i for i in range(12,48)])]\n",
        "for i in test_set.groupby([\"abs_date\",\"time_point\"]):\n",
        "    temp = i[1]\n",
        "    temp['station_name'] = pd.Categorical(temp['station_name'], categories=categories_list, ordered=True)\n",
        "    temp = temp.sort_values(by=['station_name']).reset_index(drop=True)#特定日期特定时间的所有站点已知数据\n",
        "    features = temp[['is_event','is_monday','is_tuesday','is_wednsday','is_thursday','is_friday','is_saturday','is_sunday']].values\n",
        "    labels = temp[['in_flow','out_flow']].values\n",
        "    ori_x_test.append(features)\n",
        "    ori_y_test.append(labels)\n",
        "\n",
        "\n",
        "# 准备模型输入与loss标杆\n",
        "# 找到所有非零元素的索引\n",
        "adj_matrix = np.array(adj_matrix)\n",
        "row, col = np.nonzero(adj_matrix)\n",
        "\n",
        "# 将这些索引转换为 PyTorch 张量\n",
        "edge_index = torch.tensor(np.array([row, col]), dtype=torch.long)\n",
        "data_input: List[Data] = [Data(x=torch.tensor(ori_x[epoch], dtype=torch.float),\n",
        "                               edge_index=edge_index,\n",
        "                               y=torch.tensor(ori_y[epoch], dtype=torch.float),\n",
        "                               node_mask=station_mask)\n",
        "                          for epoch in range(len(ori_x))]\n",
        "data_input_test: List[Data] = [Data(x=torch.tensor(ori_x_test[epoch], dtype=torch.float),\n",
        "                               edge_index=edge_index,\n",
        "                               y=torch.tensor(ori_y_test[epoch], dtype=torch.float),\n",
        "                               node_mask=station_mask)\n",
        "                          for epoch in range(len(ori_x_test))]"
      ]
    },
    {
      "cell_type": "code",
      "execution_count": 12,
      "metadata": {
        "id": "WdFk--anJick"
      },
      "outputs": [],
      "source": []
    },
    {
      "cell_type": "markdown",
      "metadata": {
        "id": "Zol8_waNJick"
      },
      "source": [
        "## 转换格式以适配STGCN"
      ]
    },
    {
      "cell_type": "code",
      "execution_count": 13,
      "metadata": {
        "id": "b-DRZ6b8Jick"
      },
      "outputs": [],
      "source": [
        "# 将datainput中的数据转换为STGCN能用的格式\n",
        "\n",
        "traning_data = data_input\n",
        "time_nodes_features = []\n",
        "for i in range(len(traning_data)):\n",
        "    time_nodes_features.append(traning_data[i].x)\n",
        "time_nodes_features = torch.stack(time_nodes_features)\n",
        "\n",
        "nodes_time_features = time_nodes_features.permute(1, 0, 2)\n",
        "STGCNX = nodes_time_features.unsqueeze(0)\n",
        "time_nodes_labels = []\n",
        "for i in range(len(traning_data)):\n",
        "    time_nodes_labels.append(traning_data[i].y[:,0])\n",
        "time_nodes_labels = torch.stack(time_nodes_labels)\n",
        "time_nodes_labels = time_nodes_labels.unsqueeze(-1)\n",
        "nodes_time_labels = time_nodes_labels.permute(1, 0, 2)\n",
        "STGCNY = nodes_time_labels.unsqueeze(0)"
      ]
    },
    {
      "cell_type": "code",
      "execution_count": 14,
      "metadata": {
        "id": "_d3KM9XHJicl"
      },
      "outputs": [],
      "source": [
        "test_data = data_input_test\n",
        "time_nodes_features = []\n",
        "for i in range(len(test_data)):\n",
        "    time_nodes_features.append(test_data[i].x)\n",
        "time_nodes_features = torch.stack(time_nodes_features)\n",
        "\n",
        "nodes_time_features = time_nodes_features.permute(1, 0, 2)\n",
        "STGCNX_test = nodes_time_features.unsqueeze(0)\n",
        "time_nodes_labels = []\n",
        "for i in range(len(test_data)):\n",
        "    time_nodes_labels.append(test_data[i].y[:,0])\n",
        "time_nodes_labels = torch.stack(time_nodes_labels)\n",
        "time_nodes_labels = time_nodes_labels.unsqueeze(-1)\n",
        "nodes_time_labels = time_nodes_labels.permute(1, 0, 2)\n",
        "STGCNY_test = nodes_time_labels.unsqueeze(0)"
      ]
    },
    {
      "cell_type": "code",
      "execution_count": 14,
      "metadata": {
        "id": "BND3YaeXJicl"
      },
      "outputs": [],
      "source": []
    },
    {
      "cell_type": "code",
      "execution_count": 15,
      "metadata": {
        "id": "WIVfqnh5Jicl"
      },
      "outputs": [],
      "source": [
        "# import torch.testing\n",
        "\n",
        "\n",
        "# tmp_y = []\n",
        "# tmp_x = []\n",
        "# for i in range(6):\n",
        "#     tmp = STGCNY[:, :, (i * 48):((i+1) * 48), :]\n",
        "#     tmp_y.append(tmp)\n",
        "#     tmp = STGCNX[:, :, (i * 48):((i+1) * 48), :]\n",
        "#     tmp_x.append(tmp)\n",
        "\n",
        "# tmp_array_y = np.array(tmp_y)\n",
        "# tmp_array_x = np.array(tmp_x)\n",
        "\n",
        "# # tmp_array.shape\n",
        "# STGCNY = torch.from_numpy(tmp_array_y)\n",
        "# STGCNY = STGCNY.squeeze(1)\n",
        "\n",
        "# STGCNX = torch.from_numpy(tmp_array_x)\n",
        "# STGCNX = STGCNX.squeeze(1) # .permute(0, 4, 2, 3, 1)\n",
        "\n",
        "STGCNY = STGCNY.reshape(1, 285, 9, 36, 1).permute(2, 1, 3, 4, 0).squeeze(-1)\n",
        "STGCNX = STGCNX.reshape(1, 285, 9, 36, 8).permute(2, 1, 3, 4, 0).squeeze(-1)\n",
        "STGCNY_test= STGCNY_test.reshape(1, 285, 4, 36, 1).permute(2, 1, 3, 4, 0).squeeze(-1)\n",
        "STGCNX_test = STGCNX_test.reshape(1, 285, 4, 36, 8).permute(2, 1, 3, 4, 0).squeeze(-1)"
      ]
    },
    {
      "cell_type": "markdown",
      "metadata": {
        "id": "-Yj2TaD1Jicm"
      },
      "source": [
        "# 训练及预测"
      ]
    },
    {
      "cell_type": "markdown",
      "metadata": {
        "id": "GVQQ3cMHJicm"
      },
      "source": [
        "## 训练STGCN"
      ]
    },
    {
      "cell_type": "code",
      "source": [
        "print(torch.cuda.is_available())"
      ],
      "metadata": {
        "colab": {
          "base_uri": "https://localhost:8080/"
        },
        "id": "Jxib__voNnnt",
        "outputId": "52805ea3-876a-4068-af42-0ddda28b5baa"
      },
      "execution_count": 16,
      "outputs": [
        {
          "output_type": "stream",
          "name": "stdout",
          "text": [
            "True\n"
          ]
        }
      ]
    },
    {
      "cell_type": "code",
      "source": [
        "input_x = STGCNX[:]\n",
        "input_y = STGCNY[:]\n",
        "\n",
        "input_x_time = input_x[:, :, :, :-1]\n",
        "input_x_event = input_x[:, :, :, -1:]\n",
        "\n",
        "pred_x = STGCNX[-1].unsqueeze(0)\n",
        "pred_x_time = pred_x[:, :, :, :-1]\n",
        "pred_x_event = pred_x[:, :, :, -1:]\n",
        "\n",
        "true_y = STGCNY[-1].unsqueeze(0)"
      ],
      "metadata": {
        "id": "-siBa8cRP2av"
      },
      "execution_count": 17,
      "outputs": []
    },
    {
      "cell_type": "code",
      "source": [
        "print(input_x_time.shape)\n",
        "print(input_x_event.shape)"
      ],
      "metadata": {
        "colab": {
          "base_uri": "https://localhost:8080/"
        },
        "id": "U5HUygLkQJnJ",
        "outputId": "31cce63e-0a9d-4c5a-89cc-9a5f4d13052a"
      },
      "execution_count": 18,
      "outputs": [
        {
          "output_type": "stream",
          "name": "stdout",
          "text": [
            "torch.Size([9, 285, 36, 7])\n",
            "torch.Size([9, 285, 36, 1])\n"
          ]
        }
      ]
    },
    {
      "cell_type": "code",
      "execution_count": 19,
      "metadata": {
        "colab": {
          "base_uri": "https://localhost:8080/"
        },
        "id": "VOsK1QBdJicm",
        "outputId": "b3672276-af50-4c7a-b340-bc6f69df46da"
      },
      "outputs": [
        {
          "output_type": "stream",
          "name": "stderr",
          "text": [
            "\r  0%|          | 0/300 [00:00<?, ?it/s]/usr/local/lib/python3.10/dist-packages/torch/nn/modules/conv.py:456: UserWarning: Plan failed with a cudnnException: CUDNN_BACKEND_EXECUTION_PLAN_DESCRIPTOR: cudnnFinalize Descriptor Failed cudnn_status: CUDNN_STATUS_NOT_SUPPORTED (Triggered internally at ../aten/src/ATen/native/cudnn/Conv_v8.cpp:919.)\n",
            "  return F.conv2d(input, weight, bias, self.stride,\n",
            "  4%|▍         | 12/300 [00:02<00:34,  8.45it/s]"
          ]
        },
        {
          "output_type": "stream",
          "name": "stdout",
          "text": [
            "Epoch [10/300], Loss: 153942.0781\n"
          ]
        },
        {
          "output_type": "stream",
          "name": "stderr",
          "text": [
            "  7%|▋         | 22/300 [00:03<00:29,  9.32it/s]"
          ]
        },
        {
          "output_type": "stream",
          "name": "stdout",
          "text": [
            "Epoch [20/300], Loss: 57122.0586\n"
          ]
        },
        {
          "output_type": "stream",
          "name": "stderr",
          "text": [
            " 11%|█         | 32/300 [00:04<00:28,  9.32it/s]"
          ]
        },
        {
          "output_type": "stream",
          "name": "stdout",
          "text": [
            "Epoch [30/300], Loss: 28459.7246\n"
          ]
        },
        {
          "output_type": "stream",
          "name": "stderr",
          "text": [
            " 14%|█▍        | 42/300 [00:05<00:27,  9.26it/s]"
          ]
        },
        {
          "output_type": "stream",
          "name": "stdout",
          "text": [
            "Epoch [40/300], Loss: 21281.5918\n"
          ]
        },
        {
          "output_type": "stream",
          "name": "stderr",
          "text": [
            " 17%|█▋        | 52/300 [00:07<00:26,  9.36it/s]"
          ]
        },
        {
          "output_type": "stream",
          "name": "stdout",
          "text": [
            "Epoch [50/300], Loss: 16304.2637\n"
          ]
        },
        {
          "output_type": "stream",
          "name": "stderr",
          "text": [
            " 21%|██        | 62/300 [00:08<00:25,  9.37it/s]"
          ]
        },
        {
          "output_type": "stream",
          "name": "stdout",
          "text": [
            "Epoch [60/300], Loss: 10190.5693\n"
          ]
        },
        {
          "output_type": "stream",
          "name": "stderr",
          "text": [
            " 24%|██▍       | 72/300 [00:09<00:24,  9.35it/s]"
          ]
        },
        {
          "output_type": "stream",
          "name": "stdout",
          "text": [
            "Epoch [70/300], Loss: 7598.0708\n"
          ]
        },
        {
          "output_type": "stream",
          "name": "stderr",
          "text": [
            " 27%|██▋       | 82/300 [00:10<00:23,  9.34it/s]"
          ]
        },
        {
          "output_type": "stream",
          "name": "stdout",
          "text": [
            "Epoch [80/300], Loss: 6591.8291\n"
          ]
        },
        {
          "output_type": "stream",
          "name": "stderr",
          "text": [
            " 31%|███       | 92/300 [00:11<00:22,  9.34it/s]"
          ]
        },
        {
          "output_type": "stream",
          "name": "stdout",
          "text": [
            "Epoch [90/300], Loss: 6137.8257\n"
          ]
        },
        {
          "output_type": "stream",
          "name": "stderr",
          "text": [
            " 34%|███▍      | 102/300 [00:12<00:21,  9.34it/s]"
          ]
        },
        {
          "output_type": "stream",
          "name": "stdout",
          "text": [
            "Epoch [100/300], Loss: 5889.4829\n"
          ]
        },
        {
          "output_type": "stream",
          "name": "stderr",
          "text": [
            " 37%|███▋      | 112/300 [00:13<00:20,  9.36it/s]"
          ]
        },
        {
          "output_type": "stream",
          "name": "stdout",
          "text": [
            "Epoch [110/300], Loss: 5674.7803\n"
          ]
        },
        {
          "output_type": "stream",
          "name": "stderr",
          "text": [
            " 41%|████      | 122/300 [00:15<00:19,  9.36it/s]"
          ]
        },
        {
          "output_type": "stream",
          "name": "stdout",
          "text": [
            "Epoch [120/300], Loss: 5450.0640\n"
          ]
        },
        {
          "output_type": "stream",
          "name": "stderr",
          "text": [
            " 44%|████▍     | 132/300 [00:16<00:17,  9.35it/s]"
          ]
        },
        {
          "output_type": "stream",
          "name": "stdout",
          "text": [
            "Epoch [130/300], Loss: 5174.8311\n"
          ]
        },
        {
          "output_type": "stream",
          "name": "stderr",
          "text": [
            " 47%|████▋     | 142/300 [00:17<00:16,  9.33it/s]"
          ]
        },
        {
          "output_type": "stream",
          "name": "stdout",
          "text": [
            "Epoch [140/300], Loss: 4823.0781\n"
          ]
        },
        {
          "output_type": "stream",
          "name": "stderr",
          "text": [
            " 51%|█████     | 152/300 [00:18<00:15,  9.35it/s]"
          ]
        },
        {
          "output_type": "stream",
          "name": "stdout",
          "text": [
            "Epoch [150/300], Loss: 4424.3481\n"
          ]
        },
        {
          "output_type": "stream",
          "name": "stderr",
          "text": [
            " 54%|█████▍    | 162/300 [00:19<00:14,  9.37it/s]"
          ]
        },
        {
          "output_type": "stream",
          "name": "stdout",
          "text": [
            "Epoch [160/300], Loss: 3996.9644\n"
          ]
        },
        {
          "output_type": "stream",
          "name": "stderr",
          "text": [
            " 57%|█████▋    | 172/300 [00:20<00:13,  9.35it/s]"
          ]
        },
        {
          "output_type": "stream",
          "name": "stdout",
          "text": [
            "Epoch [170/300], Loss: 3624.3232\n"
          ]
        },
        {
          "output_type": "stream",
          "name": "stderr",
          "text": [
            " 61%|██████    | 182/300 [00:21<00:12,  9.37it/s]"
          ]
        },
        {
          "output_type": "stream",
          "name": "stdout",
          "text": [
            "Epoch [180/300], Loss: 3318.7104\n"
          ]
        },
        {
          "output_type": "stream",
          "name": "stderr",
          "text": [
            " 64%|██████▍   | 192/300 [00:23<00:11,  9.34it/s]"
          ]
        },
        {
          "output_type": "stream",
          "name": "stdout",
          "text": [
            "Epoch [190/300], Loss: 3062.9751\n"
          ]
        },
        {
          "output_type": "stream",
          "name": "stderr",
          "text": [
            " 67%|██████▋   | 202/300 [00:24<00:10,  9.35it/s]"
          ]
        },
        {
          "output_type": "stream",
          "name": "stdout",
          "text": [
            "Epoch [200/300], Loss: 2854.7051\n"
          ]
        },
        {
          "output_type": "stream",
          "name": "stderr",
          "text": [
            " 71%|███████   | 212/300 [00:25<00:09,  9.37it/s]"
          ]
        },
        {
          "output_type": "stream",
          "name": "stdout",
          "text": [
            "Epoch [210/300], Loss: 2678.7297\n"
          ]
        },
        {
          "output_type": "stream",
          "name": "stderr",
          "text": [
            " 74%|███████▍  | 222/300 [00:26<00:08,  9.39it/s]"
          ]
        },
        {
          "output_type": "stream",
          "name": "stdout",
          "text": [
            "Epoch [220/300], Loss: 2519.6406\n"
          ]
        },
        {
          "output_type": "stream",
          "name": "stderr",
          "text": [
            " 77%|███████▋  | 232/300 [00:27<00:07,  9.28it/s]"
          ]
        },
        {
          "output_type": "stream",
          "name": "stdout",
          "text": [
            "Epoch [230/300], Loss: 2366.3801\n"
          ]
        },
        {
          "output_type": "stream",
          "name": "stderr",
          "text": [
            " 81%|████████  | 242/300 [00:28<00:06,  9.05it/s]"
          ]
        },
        {
          "output_type": "stream",
          "name": "stdout",
          "text": [
            "Epoch [240/300], Loss: 2212.7563\n"
          ]
        },
        {
          "output_type": "stream",
          "name": "stderr",
          "text": [
            " 84%|████████▍ | 252/300 [00:29<00:05,  9.32it/s]"
          ]
        },
        {
          "output_type": "stream",
          "name": "stdout",
          "text": [
            "Epoch [250/300], Loss: 2063.4995\n"
          ]
        },
        {
          "output_type": "stream",
          "name": "stderr",
          "text": [
            " 87%|████████▋ | 262/300 [00:31<00:04,  9.33it/s]"
          ]
        },
        {
          "output_type": "stream",
          "name": "stdout",
          "text": [
            "Epoch [260/300], Loss: 1923.6328\n"
          ]
        },
        {
          "output_type": "stream",
          "name": "stderr",
          "text": [
            " 91%|█████████ | 272/300 [00:32<00:03,  9.32it/s]"
          ]
        },
        {
          "output_type": "stream",
          "name": "stdout",
          "text": [
            "Epoch [270/300], Loss: 1794.6737\n"
          ]
        },
        {
          "output_type": "stream",
          "name": "stderr",
          "text": [
            " 94%|█████████▍| 282/300 [00:33<00:01,  9.29it/s]"
          ]
        },
        {
          "output_type": "stream",
          "name": "stdout",
          "text": [
            "Epoch [280/300], Loss: 1684.6426\n"
          ]
        },
        {
          "output_type": "stream",
          "name": "stderr",
          "text": [
            " 97%|█████████▋| 292/300 [00:34<00:00,  9.28it/s]"
          ]
        },
        {
          "output_type": "stream",
          "name": "stdout",
          "text": [
            "Epoch [290/300], Loss: 1588.2679\n"
          ]
        },
        {
          "output_type": "stream",
          "name": "stderr",
          "text": [
            "100%|██████████| 300/300 [00:35<00:00,  8.46it/s]"
          ]
        },
        {
          "output_type": "stream",
          "name": "stdout",
          "text": [
            "Epoch [300/300], Loss: 1501.7083\n"
          ]
        },
        {
          "output_type": "stream",
          "name": "stderr",
          "text": [
            "\n"
          ]
        }
      ],
      "source": [
        "import math\n",
        "import torch\n",
        "import torch.nn as nn\n",
        "import torch.nn.functional as F\n",
        "import torch.nn.init as init\n",
        "\n",
        "import torch.optim as optim\n",
        "from torch_geometric.nn import GCNConv\n",
        "import torch_geometric.nn as pyg_nn\n",
        "import torch_geometric.utils as pyg_utils\n",
        "\n",
        "from torch.utils.data import Dataset, DataLoader\n",
        "\n",
        "from torch.nn import Linear, Parameter\n",
        "from torch_geometric.nn import MessagePassing\n",
        "from torch_geometric.utils import add_self_loops, degree\n",
        "\n",
        "\n",
        "\n",
        "# 定义自定义 Dataset 类\n",
        "class TimeEventDataset(Dataset):\n",
        "    def __init__(self, x_time, x_event, y, edge_index):\n",
        "        self.x_time = x_time\n",
        "        self.x_event = x_event\n",
        "        self.y = y\n",
        "        self.edge_index = edge_index\n",
        "\n",
        "    def __len__(self):\n",
        "        return len(self.y)\n",
        "\n",
        "    def __getitem__(self, idx):\n",
        "        return self.x_time[idx], self.x_event[idx], self.y[idx], self.edge_index\n",
        "\n",
        "# 创建 Dataset 和 DataLoader\n",
        "dataset = TimeEventDataset(input_x_time, input_x_event, input_y, edge_index)\n",
        "dataloader = DataLoader(dataset, batch_size=9, shuffle=True)\n",
        "\n",
        "# 清空显存\n",
        "torch.cuda.empty_cache()\n",
        "\n",
        "# 假设你已经有了输入数据和标签数据\n",
        "# 输入数据形状: (batch_size, N, T, F)\n",
        "# 标签数据形状: (batch_size, N, T, F)\n",
        "# edge_index: 图的边信息，形状为 (2, E)\n",
        "from tqdm import tqdm\n",
        "# 模拟数据\n",
        "batch_size = input_y.shape[0]\n",
        "num_nodes = STGCNY.shape[1]\n",
        "time_feature_dims = input_x_time.shape[-1]\n",
        "event_feature_dims = input_x_event.shape[-1]\n",
        "time_steps = STGCNY.shape[2]\n",
        "# num_features = STGCNX.shape[3]\n",
        "hidden_dims = 2\n",
        "output_dims = 1\n",
        "\n",
        "x_time = input_x_time.to('cuda')\n",
        "x_event = input_x_event.to('cuda')\n",
        "# x = torch.cat([x_time, x_event], dim=-1)\n",
        "y = input_y.to('cuda')\n",
        "edge_index = data_input[0].edge_index.to('cuda')\n",
        "\n",
        "# 定义模型、损失函数和优化器\n",
        "model = CombinedModel(num_nodes, time_feature_dims, event_feature_dims, hidden_dims, output_dims, time_steps, 16, 32, (3, 1)).to('cuda')\n",
        "criterion = nn.MSELoss()\n",
        "optimizer = optim.AdamW(model.parameters(), lr=0.005, weight_decay=5e-4)\n",
        "\n",
        "# # 训练循环\n",
        "# num_epochs = 200\n",
        "# for epoch in tqdm(range(num_epochs)):\n",
        "#     model.train()\n",
        "#     optimizer.zero_grad()\n",
        "#     output = model(x_time, x_event, edge_index)\n",
        "#     loss = criterion(output.permute(1,0,2,3)[station_mask].permute(1,0,2,3), y.permute(1,0,2,3)[station_mask].permute(1,0,2,3))\n",
        "#     loss.backward()\n",
        "#     optimizer.step()\n",
        "#     if (epoch + 1) % 10 == 0:\n",
        "#         print(f'Epoch [{epoch + 1}/{num_epochs}], Loss: {loss.item():.4f}')\n",
        "\n",
        "#     # 清空显存\n",
        "#     torch.cuda.empty_cache()\n",
        "# torch.save(model.state_dict(), 'model_parameters.pth')\n",
        "\n",
        "\n",
        "\n",
        "# 训练循环\n",
        "num_epochs = 300\n",
        "\n",
        "for epoch in tqdm(range(num_epochs)):\n",
        "    model.train()\n",
        "    for batch in dataloader:\n",
        "        x_time_batch, x_event_batch, y_batch, edge_index_batch = batch\n",
        "        x_time_batch = x_time_batch.to('cuda')\n",
        "        x_event_batch = x_event_batch.to('cuda')\n",
        "        y_batch = y_batch.to('cuda')\n",
        "        optimizer.zero_grad()\n",
        "        output = model(x_time_batch, x_event_batch, edge_index)\n",
        "        loss = criterion(output, y_batch)\n",
        "        loss.backward()\n",
        "        optimizer.step()\n",
        "\n",
        "    if (epoch + 1) % 10 == 0:\n",
        "        print(f'Epoch [{epoch + 1}/{num_epochs}], Loss: {loss.item():.4f}')\n",
        "\n",
        "torch.save(model.state_dict(), 'model_parameters.pth')"
      ]
    },
    {
      "cell_type": "code",
      "source": [
        "torch.cuda.max_memory_allocated() / 1000000"
      ],
      "metadata": {
        "colab": {
          "base_uri": "https://localhost:8080/"
        },
        "id": "2UhNFsamOBnl",
        "outputId": "09c78ca5-9ee3-4e90-ffee-640e0b6c7032"
      },
      "execution_count": 20,
      "outputs": [
        {
          "output_type": "execute_result",
          "data": {
            "text/plain": [
              "29504.445952"
            ]
          },
          "metadata": {},
          "execution_count": 20
        }
      ]
    },
    {
      "cell_type": "code",
      "source": [],
      "metadata": {
        "id": "0gNw6WS57kTJ"
      },
      "execution_count": 20,
      "outputs": []
    },
    {
      "cell_type": "code",
      "execution_count": 21,
      "metadata": {
        "colab": {
          "base_uri": "https://localhost:8080/",
          "height": 448
        },
        "id": "8SGomEHZJicn",
        "outputId": "6e647899-956e-4850-8278-0acb0d3dab71"
      },
      "outputs": [
        {
          "output_type": "execute_result",
          "data": {
            "text/plain": [
              "[<matplotlib.lines.Line2D at 0x798586dcaa40>]"
            ]
          },
          "metadata": {},
          "execution_count": 21
        },
        {
          "output_type": "display_data",
          "data": {
            "text/plain": [
              "<Figure size 640x480 with 1 Axes>"
            ],
            "image/png": "[encoded data removed]"
          },
          "metadata": {}
        }
      ],
      "source": [
        "model.eval()\n",
        "plt.plot(true_y[0,0,:,0])\n",
        "predicted_y = model(pred_x_time.to(\"cuda\"), pred_x_event.to('cuda'), edge_index)\n",
        "plt.plot(predicted_y[0,0,:,0].cpu().detach().numpy())"
      ]
    },
    {
      "cell_type": "code",
      "source": [
        "plt.plot(STGCNY[1,0,:,0])\n",
        "predicted_y = model(STGCNX[:, :, :, :-1].to(\"cuda\"), STGCNX[:, :, :, -1:].to(\"cuda\"), edge_index)\n",
        "plt.plot(predicted_y[1,0,:,0].cpu().detach().numpy())"
      ],
      "metadata": {
        "colab": {
          "base_uri": "https://localhost:8080/",
          "height": 452
        },
        "id": "jumAAZDbTBLP",
        "outputId": "4a2a58ef-ed29-4f98-e5f0-6aeeaa59ed3c"
      },
      "execution_count": 22,
      "outputs": [
        {
          "output_type": "execute_result",
          "data": {
            "text/plain": [
              "[<matplotlib.lines.Line2D at 0x798586e90e80>]"
            ]
          },
          "metadata": {},
          "execution_count": 22
        },
        {
          "output_type": "display_data",
          "data": {
            "text/plain": [
              "<Figure size 640x480 with 1 Axes>"
            ],
            "image/png": "[encoded data removed]"
          },
          "metadata": {}
        }
      ]
    },
    {
      "cell_type": "code",
      "source": [
        "停止"
      ],
      "metadata": {
        "colab": {
          "base_uri": "https://localhost:8080/",
          "height": 145
        },
        "id": "BcaGS0e2Rjyd",
        "outputId": "b478aec9-e3d6-4809-e6fb-28d5acf179a8"
      },
      "execution_count": 23,
      "outputs": [
        {
          "output_type": "error",
          "ename": "NameError",
          "evalue": "name '停止' is not defined",
          "traceback": [
            "\u001b[0;31m---------------------------------------------------------------------------\u001b[0m",
            "\u001b[0;31mNameError\u001b[0m                                 Traceback (most recent call last)",
            "\u001b[0;32m<ipython-input-23-df893187711b>\u001b[0m in \u001b[0;36m<cell line: 1>\u001b[0;34m()\u001b[0m\n\u001b[0;32m----> 1\u001b[0;31m \u001b[0m停止\u001b[0m\u001b[0;34m\u001b[0m\u001b[0;34m\u001b[0m\u001b[0m\n\u001b[0m",
            "\u001b[0;31mNameError\u001b[0m: name '停止' is not defined"
          ]
        }
      ]
    },
    {
      "cell_type": "code",
      "execution_count": null,
      "metadata": {
        "id": "mdeaDt2dJicn"
      },
      "outputs": [],
      "source": [
        "STGCNX.shape"
      ]
    },
    {
      "cell_type": "markdown",
      "metadata": {
        "id": "GrFuGeSWJicn"
      },
      "source": [
        " # 模型使用"
      ]
    },
    {
      "cell_type": "code",
      "execution_count": 38,
      "metadata": {
        "id": "5ajYizYTJico"
      },
      "outputs": [],
      "source": [
        "model.eval()  # 切换到评估模式\n",
        "x_test = STGCNX_test.to(\"cuda\")\n",
        "x_test_time = x_test[:, :, :, :-1].to(\"cuda\")\n",
        "x_test_event = x_test[:, :, :, -1:].to(\"cuda\")\n",
        "in_flow = model(x_test_time,x_test_event, edge_index.to(\"cuda\"))\n",
        "torch.save(in_flow.permute(1,0,2,3)[station_mask].permute(1,0,2,3), 'in_flow.pt')#4天，150个站点,48个时间点，8个特征"
      ]
    },
    {
      "cell_type": "code",
      "execution_count": null,
      "metadata": {
        "id": "kfNBU7r6Jico"
      },
      "outputs": [],
      "source": [
        "STGCNY.shape"
      ]
    },
    {
      "cell_type": "code",
      "execution_count": null,
      "metadata": {
        "id": "i5GLC8S_Jicp"
      },
      "outputs": [],
      "source": [
        "# sta_info_for_adj['station_name'] = pd.Categorical(sta_info_for_adj['station_name'], categories=categories_list, ordered=True)\n",
        "# sta_info_for_adj = sta_info_for_adj.sort_values([\"abs_date\",'station_name','time_point'])\n",
        "# (torch.tensor(sta_info_for_adj['in_flow'],dtype=torch.float)==STGCNY.permute(1,0,2,3).permute(1,0,2,3).flatten()).all()"
      ]
    },
    {
      "cell_type": "code",
      "execution_count": null,
      "metadata": {
        "id": "KhhMkTufJicq"
      },
      "outputs": [],
      "source": []
    },
    {
      "cell_type": "code",
      "execution_count": 39,
      "metadata": {
        "id": "7nCAUnEfJicq"
      },
      "outputs": [],
      "source": [
        "test_set['station_name'] = pd.Categorical(test_set['station_name'], categories=categories_list, ordered=True)\n",
        "test_set = test_set.sort_values([\"abs_date\",'station_name','time_point'])\n",
        "test_set_in_flow = in_flow"
      ]
    },
    {
      "cell_type": "code",
      "execution_count": 41,
      "metadata": {
        "id": "lticZK8pJicq"
      },
      "outputs": [],
      "source": [
        "test_set.to_csv('test_set_inflow.csv')"
      ]
    },
    {
      "cell_type": "code",
      "execution_count": null,
      "metadata": {
        "id": "bUdSNUXQJicr"
      },
      "outputs": [],
      "source": [
        "test_set['abs_date'].unique()"
      ]
    },
    {
      "cell_type": "code",
      "execution_count": null,
      "metadata": {
        "id": "lE--uw5OJicr"
      },
      "outputs": [],
      "source": [
        "# 咳咳\n",
        "# 停下\n",
        "STGCNX.shape"
      ]
    },
    {
      "cell_type": "code",
      "execution_count": null,
      "metadata": {
        "id": "kbcKYjAPJicr"
      },
      "outputs": [],
      "source": [
        "[[],[]]"
      ]
    },
    {
      "cell_type": "markdown",
      "metadata": {
        "id": "IT81vxEqJicr"
      },
      "source": [
        "## 训练GCN（效果不佳）"
      ]
    },
    {
      "cell_type": "code",
      "execution_count": null,
      "metadata": {
        "id": "E-8eAKw8Jicr"
      },
      "outputs": [],
      "source": [
        "\n",
        "# prepare model parameters\n",
        "num_features = 4\n",
        "num_classes = 2\n",
        "model = models.GCN(num_features, num_classes)\n",
        "optimizer = torch.optim.Adam(model.parameters(), lr=0.001)\n",
        "criterion = torch.nn.MSELoss()\n"
      ]
    },
    {
      "cell_type": "code",
      "execution_count": null,
      "metadata": {
        "id": "75hwBZlHJics"
      },
      "outputs": [],
      "source": [
        "model"
      ]
    },
    {
      "cell_type": "code",
      "execution_count": null,
      "metadata": {
        "id": "AFrVHEbmJics"
      },
      "outputs": [],
      "source": [
        "# start training\n",
        "import random\n",
        "duptimes = 50 # 每个数据输入进模型训练的次数\n",
        "total_input_sz = len(data_input)\n",
        "# random.shuffle(data_input)\n",
        "test_set_sz = 48 # 预测集大小\n",
        "train_set_sz = total_input_sz - test_set_sz\n",
        "model.train()\n",
        "for dup_i in range(duptimes):\n",
        "    optimizer.zero_grad()  # 清除梯度\n",
        "    loss1,loss2=0.0,0.0\n",
        "    for epoch in range(train_set_sz):\n",
        "        out_y = model(data_input[epoch])  # 前向传播\n",
        "        out_y1_for_loss = out_y[:, 0][station_mask]\n",
        "        out_y2_for_loss = out_y[:, 1][station_mask]\n",
        "        true_y1_for_loss = data_input[epoch].y[:, 0][station_mask]\n",
        "        true_y2_for_loss = data_input[epoch].y[:, 1][station_mask]\n",
        "        loss1 += criterion(out_y1_for_loss, true_y1_for_loss)  # 计算损失\n",
        "        loss2 += criterion(out_y2_for_loss, true_y2_for_loss)\n",
        "    loss = loss1+loss2  # 加权求和\n",
        "    if dup_i % (duptimes / 20) == 0:\n",
        "        print('dup_i=', dup_i, '\\t\\tloss=', loss1.item(),loss2.item())\n",
        "    loss.backward()  # 反向传播\n",
        "    optimizer.step()  # 更新参数\n",
        "\n"
      ]
    },
    {
      "cell_type": "code",
      "execution_count": null,
      "metadata": {
        "id": "la2mQXwaJics"
      },
      "outputs": [],
      "source": [
        "data_input[epoch].y[:, 1]"
      ]
    },
    {
      "cell_type": "markdown",
      "metadata": {
        "id": "Pm2FEBjbJics"
      },
      "source": [
        "## 预测"
      ]
    },
    {
      "cell_type": "code",
      "execution_count": null,
      "metadata": {
        "id": "I5m3-Gt-Jics"
      },
      "outputs": [],
      "source": [
        "# make prediction\n",
        "model.eval()\n",
        "predict_data: List[Data] = data_input[:train_set_sz]\n",
        "\n",
        "predict_in_flow = []\n",
        "predict_out_flow = []\n",
        "for piece in predict_data:\n",
        "    pre_out = model(piece)\n",
        "    pre_out = abnorm_min_max(pre_out.detach(), min_y, max_y)\n",
        "    predict_in_flow.append(pre_out[:, 0][station_mask])\n",
        "    predict_out_flow.append(pre_out[:, 1][station_mask])"
      ]
    },
    {
      "cell_type": "code",
      "execution_count": null,
      "metadata": {
        "id": "_rINtnU1Jict"
      },
      "outputs": [],
      "source": [
        "piece.x"
      ]
    },
    {
      "cell_type": "markdown",
      "metadata": {
        "id": "wAQvAfZWJict"
      },
      "source": [
        "## 验证效果"
      ]
    },
    {
      "cell_type": "code",
      "execution_count": null,
      "metadata": {
        "id": "Lfje3LSpJict"
      },
      "outputs": [],
      "source": [
        "from sklearn.metrics import mean_absolute_error, mean_squared_error\n",
        "\n",
        "# 将预测值和真实值转换为 numpy 数组以便使用 sklearn 库计算评估指标\n",
        "true_in_flow = np.array([data.y[:, 0][station_mask].detach().numpy() for data in predict_data])\n",
        "true_out_flow = np.array([data.y[:, 1][station_mask].detach().numpy() for data in predict_data])\n",
        "predicted_in_flow = np.array([out.detach().numpy() for out in predict_in_flow])\n",
        "predicted_out_flow = np.array([out.detach().numpy() for out in predict_out_flow])\n",
        "\n",
        "# 计算 MAE 和 RMSE\n",
        "true_in_flow = abnorm_min_max(true_in_flow,min_y[0],max_y[0])\n",
        "true_out_flow = abnorm_min_max(true_out_flow,min_y[1],max_y[1])\n",
        "mae_in = mean_absolute_error(true_in_flow, predicted_in_flow)\n",
        "rmse_in = np.sqrt(mean_squared_error(true_in_flow, predicted_in_flow))\n",
        "\n",
        "mae_out = mean_absolute_error(true_out_flow, predicted_out_flow)\n",
        "rmse_out = np.sqrt(mean_squared_error(true_out_flow, predicted_out_flow))\n",
        "\n",
        "print(f\"MAE for In-Flow: {mae_in}, RMSE for In-Flow: {rmse_in}\")\n",
        "print(f\"MAE for Out-Flow: {mae_out}, RMSE for Out-Flow: {rmse_out}\")"
      ]
    },
    {
      "cell_type": "code",
      "execution_count": null,
      "metadata": {
        "id": "uWjSUq_jJicu"
      },
      "outputs": [],
      "source": [
        "# plt.plot(true_in_flow[:,-3])\n",
        "plt.plot(predicted_in_flow[:,-3])\n",
        "plt.plot(predicted_in_flow[:,-45])"
      ]
    },
    {
      "cell_type": "code",
      "execution_count": null,
      "metadata": {
        "id": "etSoQzUoJicu"
      },
      "outputs": [],
      "source": []
    },
    {
      "cell_type": "code",
      "execution_count": null,
      "metadata": {
        "id": "RFKbyU5HJicv"
      },
      "outputs": [],
      "source": [
        "abs(np.array(torch.tensor(np.array(ori_y)[-48:]).permute(1,0,2)[station_mask][:,:,0].permute(1,0))-predicted_in_flow).mean()"
      ]
    },
    {
      "cell_type": "code",
      "execution_count": null,
      "metadata": {
        "id": "OtWDw5AhJicv"
      },
      "outputs": [],
      "source": [
        "plt.plot(predicted_in_flow[:48,-0])\n",
        "# plt.plot(predicted_in_flow[:,-1])\n",
        "# plt.plot(predicted_in_flow[:,-2])\n",
        "# plt.plot(predicted_in_flow[:,-3])"
      ]
    }
  ],
  "metadata": {
    "kernelspec": {
      "display_name": "Python 3",
      "name": "python3"
    },
    "language_info": {
      "codemirror_mode": {
        "name": "ipython",
        "version": 3
      },
      "file_extension": ".py",
      "mimetype": "text/x-python",
      "name": "python",
      "nbconvert_exporter": "python",
      "pygments_lexer": "ipython3",
      "version": "3.11.5"
    },
    "colab": {
      "provenance": [],
      "toc_visible": true,
      "machine_shape": "hm",
      "gpuType": "A100"
    },
    "accelerator": "GPU"
  },
  "nbformat": 4,
  "nbformat_minor": 0
}